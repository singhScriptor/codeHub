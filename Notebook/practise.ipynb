{
 "cells": [
  {
   "cell_type": "code",
   "execution_count": 1,
   "id": "0bde61c6",
   "metadata": {},
   "outputs": [
    {
     "name": "stdout",
     "output_type": "stream",
     "text": [
      "[\n",
      "  5, 6, 7, 1,\n",
      "  2, 3, 4\n",
      "]\n"
     ]
    }
   ],
   "source": [
    "let rotatedArray=function(nums,k){\n",
    "    k=k%nums.length\n",
    "    let rotated=nums.slice(-k).concat(nums.slice(0,-k))\n",
    "    for(let i=0;i<nums.length;i++){\n",
    "        nums[i]=rotated[i]\n",
    "    }\n",
    "    return nums\n",
    "}\n",
    "let nums=[1,2,3,4,5,6,7],k=3\n",
    "console.log(rotatedArray(nums,k))"
   ]
  },
  {
   "cell_type": "code",
   "execution_count": 2,
   "id": "890868d7",
   "metadata": {},
   "outputs": [
    {
     "name": "stdout",
     "output_type": "stream",
     "text": [
      "[ 3, 3, 5, 5, 6, 7 ]\n"
     ]
    }
   ],
   "source": [
    "let slidingWindowMaximum=function(nums,k){\n",
    "    let queue=[],ans=[]\n",
    "    for(let i=0;i<nums.length;i++){\n",
    "        while(queue.length && queue[0] < i-k+1){\n",
    "            queue.shift()\n",
    "        }\n",
    "        while(queue.length && queue[queue.length-1] < nums[i]){\n",
    "            queue.pop()\n",
    "        }\n",
    "        queue.push(i)\n",
    "        if(i >= k-1){\n",
    "            ans.push(nums[queue[0]])\n",
    "        }\n",
    "    }\n",
    "    return ans\n",
    "}\n",
    "let nums = [1,3,-1,-3,5,3,6,7], k = 3\n",
    "console.log(slidingWindowMaximum(nums,k))"
   ]
  },
  {
   "cell_type": "code",
   "execution_count": 4,
   "id": "7de91a67",
   "metadata": {},
   "outputs": [
    {
     "name": "stdout",
     "output_type": "stream",
     "text": [
      "10\n"
     ]
    }
   ],
   "source": [
    "let largestRectHistoGram=function(heights){\n",
    "    heights.push(0)\n",
    "    let stack=[-1],maxi=0\n",
    "    for(let i=0;i<heights.length;i++){\n",
    "        while(heights[i]< heights[stack[stack.length-1]]){\n",
    "            let left=heights[stack.pop()]\n",
    "            let right=i-stack[stack.length-1]-1\n",
    "            maxi=Math.max(maxi,(left*right))\n",
    "        }\n",
    "        stack.push(i)\n",
    "    }\n",
    "    return maxi\n",
    "}\n",
    "let heights = [2,1,5,6,2,3]\n",
    "console.log(largestRectHistoGram(heights))"
   ]
  },
  {
   "cell_type": "code",
   "execution_count": null,
   "id": "a29823f4",
   "metadata": {},
   "outputs": [],
   "source": [
    "let onlineStockSPan=function(){\n",
    "    this.stack=[]\n",
    "}\n",
    "onlineStockSPan.prototype.next=function(price){\n",
    "    let span=1\n",
    "    while(this.stack.length && this.stack[this.stack.length-1].price < price){\n",
    "        span+=this.stack.pop().span\n",
    "    }\n",
    "    this.stack.push({price,span})\n",
    "    return span\n",
    "}\n"
   ]
  },
  {
   "cell_type": "code",
   "execution_count": 5,
   "id": "3a8aedba",
   "metadata": {},
   "outputs": [
    {
     "name": "stdout",
     "output_type": "stream",
     "text": [
      "6\n"
     ]
    }
   ],
   "source": [
    "let trappingWater=function(heights){\n",
    "    let left=0,right=heights.length-1\n",
    "    let leftMax=heights[left],rightMax=heights[right],ans=0\n",
    "    while(left < right){\n",
    "        if(leftMax < rightMax){\n",
    "            left ++\n",
    "            leftMax=Math.max(leftMax,heights[left])\n",
    "            ans+=leftMax-heights[left]\n",
    "        }\n",
    "        else{\n",
    "            right--\n",
    "            rightMax=Math.max(rightMax,heights[right])\n",
    "            ans+=rightMax-heights[right]\n",
    "        }\n",
    "    }\n",
    "    return ans\n",
    "}\n",
    "let height = [0,1,0,2,1,0,1,3,2,1,2,1]\n",
    "console.log(trappingWater(height))"
   ]
  },
  {
   "cell_type": "code",
   "execution_count": 6,
   "id": "6e618e21",
   "metadata": {},
   "outputs": [
    {
     "name": "stdout",
     "output_type": "stream",
     "text": [
      "[ 2, -1, 2 ]\n"
     ]
    }
   ],
   "source": [
    "let nextGreaterElement=function(nums){\n",
    "    let arr=new Array(nums.length)\n",
    "    for(let i=0;i<nums.length;i++){\n",
    "        arr[i]=-1 \n",
    "        for(let j=1;j<nums.length;j++){\n",
    "            let index=(i+j)%nums.length\n",
    "            if(nums[index] > nums[i]){\n",
    "                arr[i]=nums[index]\n",
    "            }\n",
    "        }\n",
    "    }\n",
    "    return arr\n",
    "}\n",
    "let nums=[1,2,1]\n",
    "console.log(nextGreaterElement(nums))"
   ]
  },
  {
   "cell_type": "code",
   "execution_count": 8,
   "id": "a5bce3a6",
   "metadata": {},
   "outputs": [
    {
     "name": "stdout",
     "output_type": "stream",
     "text": [
      "aaabcbc\n"
     ]
    }
   ],
   "source": [
    "let decodeString=function(s){\n",
    "    let str='',nums=0,stack=[-1]\n",
    "    for(let i of s){\n",
    "        if(!isNaN(i)){\n",
    "            nums=nums*10+parseInt(i)\n",
    "        }\n",
    "        else if(i === '['){\n",
    "            stack.push(str)\n",
    "            stack.push(nums)\n",
    "            str=''\n",
    "            nums=0\n",
    "        }\n",
    "        else if(i === ']'){\n",
    "            let prevNum=stack.pop()\n",
    "            let prevStr=stack.pop()\n",
    "            str=prevStr+str.repeat(prevNum)\n",
    "        }\n",
    "        else{\n",
    "            str+=i \n",
    "        }\n",
    "    }\n",
    "    return str\n",
    "}\n",
    "let s=\"3[a]2[bc]\"\n",
    "console.log(decodeString(s))"
   ]
  },
  {
   "cell_type": "code",
   "execution_count": 11,
   "id": "f46ffb54",
   "metadata": {},
   "outputs": [
    {
     "name": "stdout",
     "output_type": "stream",
     "text": [
      "ca\n"
     ]
    }
   ],
   "source": [
    "let removeAllAdjacant=function(s){\n",
    "    let stack=[]\n",
    "    for(let i of s){\n",
    "        if(stack.length && stack[stack.length-1] === i){\n",
    "            stack.pop()\n",
    "        }\n",
    "        else{\n",
    "            stack.push(i)\n",
    "        }\n",
    "    }\n",
    "    return stack.join('')\n",
    "}\n",
    "let s=\"abbaca\"\n",
    "console.log(removeAllAdjacant(s))"
   ]
  },
  {
   "cell_type": "code",
   "execution_count": 20,
   "id": "83d38dc4",
   "metadata": {},
   "outputs": [
    {
     "name": "stdout",
     "output_type": "stream",
     "text": [
      "false\n"
     ]
    }
   ],
   "source": [
    "let validateStackSeqence=function(pushed,popped){\n",
    "    let stack=[]\n",
    "    for(let i of pushed){\n",
    "        stack.push(i)\n",
    "        while(stack.length && stack[stack.length-1] === popped[0]){\n",
    "            stack.pop()\n",
    "            popped.shift()\n",
    "        }\n",
    "    }\n",
    "    return stack.length === 0\n",
    "}\n",
    "let pushed = [1,2,3,4,5], popped = [4,3,5,1,2]\n",
    "console.log(validateStackSeqence(pushed,popped))"
   ]
  },
  {
   "cell_type": "code",
   "execution_count": 23,
   "id": "e86fe914",
   "metadata": {},
   "outputs": [
    {
     "name": "stdout",
     "output_type": "stream",
     "text": [
      "true\n"
     ]
    }
   ],
   "source": [
    "let validateParenthesis=function(s){\n",
    "    let dict={']':'[','}':'{',')':'('}\n",
    "    let stack=[]\n",
    "    for(let i of s){\n",
    "        if(i in dict){\n",
    "            if(stack.length===0 || stack.pop() !== dict[i]){\n",
    "                return false\n",
    "            }\n",
    "        }\n",
    "        else{\n",
    "            stack.push(i)\n",
    "        }\n",
    "    }\n",
    "    return stack.length ===0\n",
    "}\n",
    "let s='{}'\n",
    "console.log(validateParenthesis(s))"
   ]
  },
  {
   "cell_type": "code",
   "execution_count": 27,
   "id": "0efcfce8",
   "metadata": {},
   "outputs": [
    {
     "name": "stdout",
     "output_type": "stream",
     "text": [
      "4\n"
     ]
    }
   ],
   "source": [
    "let countPrime=function(n){\n",
    "    let isPrime=new Array(n).fill(true)\n",
    "    isPrime[0]=isPrime[1]=false\n",
    "    for(let i=2;i*i<n;i++){\n",
    "        if(isPrime[i]){\n",
    "            for(let j=i*i;j<n;j+=i){\n",
    "                isPrime[j]=false\n",
    "            }\n",
    "        }\n",
    "    }\n",
    "    return isPrime.filter(prime=>prime).length\n",
    "}\n",
    "let n=10\n",
    "console.log(countPrime(n))"
   ]
  },
  {
   "cell_type": "code",
   "execution_count": 29,
   "id": "4e262a5b",
   "metadata": {},
   "outputs": [
    {
     "name": "stdout",
     "output_type": "stream",
     "text": [
      "2\n"
     ]
    }
   ],
   "source": [
    "let luckyInt=function(arr){\n",
    "    let set=new Set(arr)\n",
    "    let maxi=0\n",
    "    for(let i of set){\n",
    "        let lucky=arr.filter(count=>count===i).length\n",
    "        if(i === lucky){\n",
    "            maxi=Math.max(maxi,i)\n",
    "        }\n",
    "    }\n",
    "    return maxi\n",
    "}\n",
    "let arr=[2,2,3,4]\n",
    "console.log(luckyInt(arr))"
   ]
  },
  {
   "cell_type": "code",
   "execution_count": 30,
   "id": "a91f180a",
   "metadata": {},
   "outputs": [
    {
     "name": "stdout",
     "output_type": "stream",
     "text": [
      "[ 0, 1 ]\n"
     ]
    }
   ],
   "source": [
    "let twoSum=function(nums,target){\n",
    "    for(let i=0;i<nums.length;i++){\n",
    "        for(let j=1;j<nums.length;j++){\n",
    "            if((nums[i]+nums[j])=== target){\n",
    "                return [i,j]\n",
    "            }\n",
    "        }\n",
    "    }\n",
    "    return [-1,-1]\n",
    "}\n",
    "let nums=[2,7,11,15],target=9\n",
    "console.log(twoSum(nums,target))"
   ]
  },
  {
   "cell_type": "code",
   "execution_count": 31,
   "id": "7bb1bdd5",
   "metadata": {},
   "outputs": [
    {
     "name": "stdout",
     "output_type": "stream",
     "text": [
      "4\n"
     ]
    }
   ],
   "source": [
    "let binarySearch=function(nums,target){\n",
    "    let left=0,right=nums.length-1\n",
    "    while(left < right){\n",
    "        let mid=Math.floor((left+right)/2)\n",
    "        if(nums[mid]===target)return mid\n",
    "        else if(nums[mid] > target){\n",
    "            right=mid-1 \n",
    "        }\n",
    "        else{\n",
    "            left=mid+1\n",
    "        }\n",
    "    }\n",
    "    return -1\n",
    "}\n",
    "let nums = [-1,0,3,5,9,12], target = 9\n",
    "console.log(binarySearch(nums,target))"
   ]
  },
  {
   "cell_type": "code",
   "execution_count": 32,
   "id": "87c6115c",
   "metadata": {},
   "outputs": [
    {
     "name": "stdout",
     "output_type": "stream",
     "text": [
      "3\n"
     ]
    }
   ],
   "source": [
    "let divideTwoInt=function(dividend,divisor){\n",
    "    let div=parseInt(dividend/divisor)\n",
    "    if(div > 2147483647)return 2147483647\n",
    "    else if(div < -2147483648)return -2147483648\n",
    "    else return div\n",
    "}\n",
    "let dividend=10,divisor=3\n",
    "console.log(divideTwoInt(dividend,divisor))"
   ]
  },
  {
   "cell_type": "code",
   "execution_count": 34,
   "id": "4d652781",
   "metadata": {},
   "outputs": [
    {
     "name": "stdout",
     "output_type": "stream",
     "text": [
      "2\n"
     ]
    }
   ],
   "source": [
    "let luckyInteger=function(nums){\n",
    "    let set=new Set(nums),maxi=-1 \n",
    "    for(let i of set){\n",
    "        let lucky=nums.filter(index=>index === i).length\n",
    "        if(i === lucky){\n",
    "            maxi=Math.max(maxi,i)\n",
    "        }\n",
    "    }\n",
    "    return maxi\n",
    "}\n",
    "let nums=[2,2,3,4]\n",
    "console.log(luckyInteger(nums))"
   ]
  },
  {
   "cell_type": "code",
   "execution_count": 36,
   "id": "c3bdd162",
   "metadata": {},
   "outputs": [
    {
     "name": "stdout",
     "output_type": "stream",
     "text": [
      "10\n"
     ]
    }
   ],
   "source": [
    "let largestRectHistoGram=function(heights){\n",
    "    heights.push(0)\n",
    "    let stack=[-1],maxi=0\n",
    "    for(let i=0;i<heights.length;i++){\n",
    "        \n",
    "        while(heights[i] < heights[stack[stack.length-1]]){\n",
    "            let left=heights[stack.pop()]\n",
    "            let right=i-stack[stack.length-1]-1\n",
    "            maxi=Math.max(maxi,left*right)\n",
    "        }\n",
    "        stack.push(i)\n",
    "    }\n",
    "    return maxi\n",
    "}\n",
    "let heights = [2,1,5,6,2,3]\n",
    "console.log(largestRectHistoGram(heights))"
   ]
  },
  {
   "cell_type": "code",
   "execution_count": null,
   "id": "b65ab796",
   "metadata": {},
   "outputs": [],
   "source": [
    "let onlineStackSpan=function(){\n",
    "    this.stack=[]\n",
    "}\n",
    "onlineStackSpan.prototype.next=function(price){\n",
    "    let span=1 \n",
    "    while(this.stack.length && this.stack[this.stack.length-1].price <= price){\n",
    "        span+=this.stack.pop().span\n",
    "    }\n",
    "    this.stack.push({price,span})\n",
    "    return span\n",
    "}"
   ]
  },
  {
   "cell_type": "code",
   "execution_count": 38,
   "id": "4857b731",
   "metadata": {},
   "outputs": [
    {
     "name": "stdout",
     "output_type": "stream",
     "text": [
      "[ 1, 2, 3, 4, 5 ]\n"
     ]
    }
   ],
   "source": [
    "let insertionSort=function(arr){\n",
    "    for(let i=0;i<arr.length;i++){\n",
    "        let temp=arr[i],j=i-1 \n",
    "        while(j>=0 && arr[j] > temp){\n",
    "            arr[j+1]=arr[j]\n",
    "            j--\n",
    "        }\n",
    "        arr[j+1]=temp\n",
    "    }\n",
    "    return arr\n",
    "}\n",
    "let arr=[4,1,3,5,2]\n",
    "console.log(insertionSort(arr))"
   ]
  },
  {
   "cell_type": "code",
   "execution_count": 42,
   "id": "51a3b186",
   "metadata": {},
   "outputs": [
    {
     "name": "stdout",
     "output_type": "stream",
     "text": [
      "[ 1, 2, 3, 4, 5 ]\n"
     ]
    }
   ],
   "source": [
    "function selectionSOrt(arr){\n",
    "    for(let i=0;i<arr.length;i++){\n",
    "        let temp=i\n",
    "        for(let j =i;j<arr.length;j++){\n",
    "            if(arr[j] < arr[temp]){\n",
    "                temp=j\n",
    "            }\n",
    "        }\n",
    "        let ans=arr[i]\n",
    "        arr[i]=arr[temp]\n",
    "        arr[temp]=ans\n",
    "    }\n",
    "    return arr\n",
    "}\n",
    "let arr=[4,1,3,5,2]\n",
    "console.log(selectionSOrt(arr))"
   ]
  },
  {
   "cell_type": "code",
   "execution_count": 43,
   "id": "509099c7",
   "metadata": {},
   "outputs": [
    {
     "name": "stdout",
     "output_type": "stream",
     "text": [
      "3\n"
     ]
    }
   ],
   "source": [
    "let hammingWeight=function(n){\n",
    "    let count=0\n",
    "    while(n){\n",
    "        n=n&(n-1)\n",
    "        count++\n",
    "    }\n",
    "    return count\n",
    "}\n",
    "let n=0b00000000000000000000000000001011\n",
    "console.log(hammingWeight(n))"
   ]
  },
  {
   "cell_type": "code",
   "execution_count": 45,
   "id": "6ca170a9",
   "metadata": {},
   "outputs": [
    {
     "name": "stdout",
     "output_type": "stream",
     "text": [
      "false\n"
     ]
    }
   ],
   "source": [
    "let alternateBits=function(n){\n",
    "    n=n.toString(2)\n",
    "    for(let i=0;i<n.length;i++){\n",
    "        if(n[i] === n[i-1])return false\n",
    "    }\n",
    "    return true\n",
    "}\n",
    "let n=7\n",
    "console.log(alternateBits(n))"
   ]
  },
  {
   "cell_type": "code",
   "execution_count": 46,
   "id": "5a2160e6",
   "metadata": {},
   "outputs": [
    {
     "name": "stdout",
     "output_type": "stream",
     "text": [
      "1a\n"
     ]
    }
   ],
   "source": [
    "let hexaDecimal=function(nums){\n",
    "    if(nums === 0)return '0'\n",
    "    if(nums < 0) nums=nums+0xffffffff\n",
    "    let hex=nums.toString(16)\n",
    "    return hex\n",
    "}\n",
    "let num=26\n",
    "console.log(hexaDecimal(num))"
   ]
  },
  {
   "cell_type": "code",
   "execution_count": 47,
   "id": "586a73ed",
   "metadata": {},
   "outputs": [
    {
     "name": "stdout",
     "output_type": "stream",
     "text": [
      "[\n",
      "  0, 1, 2, 4, 8,\n",
      "  3, 5, 6, 7\n",
      "]\n"
     ]
    }
   ],
   "source": [
    "let sortInt=function(arr){\n",
    "    return arr.sort((a,b)=>{\n",
    "        let A=a.toString(2).split('').filter(sh=> sh === '1').length\n",
    "        let B=b.toString(2).split('').filter(sh=>sh==='1').length\n",
    "        return A-B || a-b \n",
    "    })\n",
    "}\n",
    "let arr = [0,1,2,3,4,5,6,7,8]\n",
    "console.log(sortInt(arr))"
   ]
  },
  {
   "cell_type": "code",
   "execution_count": 48,
   "id": "5fa2992e",
   "metadata": {},
   "outputs": [
    {
     "name": "stdout",
     "output_type": "stream",
     "text": [
      "3\n"
     ]
    }
   ],
   "source": [
    "let divideTwoInt=function(dividend,divisor){\n",
    "    let div=parseInt(dividend/divisor)\n",
    "    if(div > 2147483647)return 2147483647\n",
    "    else if(div < -2147483648)return -2147483648\n",
    "    else return div\n",
    "}\n",
    "let dividend=10,divisor=3 \n",
    "console.log(divideTwoInt(dividend,divisor))"
   ]
  },
  {
   "cell_type": "code",
   "execution_count": 50,
   "id": "94b9f801",
   "metadata": {},
   "outputs": [
    {
     "name": "stdout",
     "output_type": "stream",
     "text": [
      "6\n"
     ]
    }
   ],
   "source": [
    "let maximumNumberOfWords=function(sentences){\n",
    "    let maxi=-1\n",
    "    for(let i=0;i<sentences.length;i++){\n",
    "        let index=sentences[i].split(' ')\n",
    "        maxi=Math.max(maxi,index.length)\n",
    "    }\n",
    "    return maxi\n",
    "}\n",
    "let sentences=[\"alice and bob love leetcode\", \"i think so too\", \"this is great thanks very much\"]\n",
    "console.log(maximumNumberOfWords(sentences))"
   ]
  },
  {
   "cell_type": "code",
   "execution_count": 51,
   "id": "953042a4",
   "metadata": {},
   "outputs": [
    {
     "name": "stdout",
     "output_type": "stream",
     "text": [
      "4\n"
     ]
    }
   ],
   "source": [
    "let binarySearch=function(nums,target){\n",
    "    let left=0,right=nums.length-1\n",
    "    while(left < right){\n",
    "        let mid=Math.floor((left+right)/2)\n",
    "        if(nums[mid] === target)return mid\n",
    "        else if(nums[mid] > target){\n",
    "            right=mid-1 \n",
    "        }\n",
    "        else{\n",
    "            left=mid+1\n",
    "        }\n",
    "    }\n",
    "    return -1\n",
    "}\n",
    "let nums = [-1,0,3,5,9,12], target = 9\n",
    "console.log(binarySearch(nums,target))"
   ]
  },
  {
   "cell_type": "code",
   "execution_count": 54,
   "id": "f71306f4",
   "metadata": {},
   "outputs": [
    {
     "name": "stdout",
     "output_type": "stream",
     "text": [
      "2\n"
     ]
    }
   ],
   "source": [
    "let peakElement=function(nums){\n",
    "    let left=0,right=nums.length-1\n",
    "    while(left < right){\n",
    "        let mid=Math.floor((left+right)/2)\n",
    "        if(nums[mid] > nums[mid+1]){\n",
    "            right=mid\n",
    "        }\n",
    "        else {\n",
    "            left=mid+1\n",
    "        }\n",
    "    }\n",
    "    return left\n",
    "}\n",
    "let nums=[1,2,3,1]\n",
    "console.log(peakElement(nums))"
   ]
  },
  {
   "cell_type": "code",
   "execution_count": 59,
   "id": "7ec8b63e",
   "metadata": {},
   "outputs": [
    {
     "name": "stdout",
     "output_type": "stream",
     "text": [
      "4\n"
     ]
    }
   ],
   "source": [
    "let rotatedArray=function(nums,target){\n",
    "    let left=0,right=nums.length-1\n",
    "    while(left < right){\n",
    "        let mid=Math.floor(Math.floor(left+right)/2)\n",
    "        if(nums[mid] === target)return mid\n",
    "        else if(nums[mid] > nums[left]){\n",
    "            if(target <= nums[mid] && target > nums[left]){\n",
    "                right=mid-1 \n",
    "            }\n",
    "            else{\n",
    "                left=mid+1\n",
    "            }\n",
    "        }\n",
    "        else{\n",
    "            if(target >= nums[mid] && target <= nums[right]){\n",
    "                left=mid+1\n",
    "            }\n",
    "            else{\n",
    "                right=mid-1 \n",
    "            }\n",
    "        }\n",
    "        return left\n",
    "    }\n",
    "}    \n",
    "let nums=[4,5,6,7,0,1,2],target=0\n",
    "console.log(rotatedArray(nums,target))\n"
   ]
  },
  {
   "cell_type": "code",
   "execution_count": 60,
   "id": "acb16960",
   "metadata": {},
   "outputs": [
    {
     "name": "stdout",
     "output_type": "stream",
     "text": [
      "4\n"
     ]
    }
   ],
   "source": [
    "let rotatedArray=function(nums,target){\n",
    "    let left=0,right=nums.length-1\n",
    "    while(left <= right){\n",
    "        let mid=Math.floor((left+right)/2)\n",
    "        if(nums[mid] === target)return mid\n",
    "        else if(nums[mid] > nums[left]){\n",
    "            if(target < nums[mid] && target >= nums[left]){\n",
    "                right=mid-1 \n",
    "            }\n",
    "            else{\n",
    "                left=mid+1\n",
    "            }\n",
    "        }\n",
    "        else{\n",
    "            if(target > nums[mid] && target <= nums[right]){\n",
    "                left=mid+1\n",
    "            }\n",
    "            else {\n",
    "                right=mid-1 \n",
    "            }\n",
    "        }\n",
    "    }\n",
    "    return -1\n",
    "}\n",
    "let  nums = [4,5,6,7,0,1,2], target = 0\n",
    "console.log(rotatedArray(nums,target))"
   ]
  },
  {
   "cell_type": "code",
   "execution_count": 61,
   "id": "e313a5a5",
   "metadata": {},
   "outputs": [
    {
     "name": "stdout",
     "output_type": "stream",
     "text": [
      "[ 0, 1 ]\n"
     ]
    }
   ],
   "source": [
    "let twoSum=function(nums,target){\n",
    "    for(let i=0;i<nums.length;i++){\n",
    "        for(let j=1;j<nums.length;j++){\n",
    "            if((nums[i]+nums[j])===target){\n",
    "                return [i,j]\n",
    "            }\n",
    "        }\n",
    "    }\n",
    "    return [-1,-1]\n",
    "}\n",
    "let nums=[2,7,11,15], target = 9\n",
    "console.log(twoSum(nums,target))"
   ]
  },
  {
   "cell_type": "code",
   "execution_count": 63,
   "id": "5fa6a3bf",
   "metadata": {},
   "outputs": [
    {
     "name": "stdout",
     "output_type": "stream",
     "text": [
      "2\n"
     ]
    }
   ],
   "source": [
    "let luckyInteger=function(arr){\n",
    "    let set=new Set(arr),maxi=-1\n",
    "    for(let i of set){\n",
    "        let lucky=arr.filter(sh=>sh===i).length\n",
    "        if(lucky === i){\n",
    "            maxi=Math.max(maxi,i)\n",
    "        }\n",
    "    }\n",
    "    return maxi\n",
    "}\n",
    "let arr=[2,2,3,4]\n",
    "console.log(luckyInteger(arr))"
   ]
  },
  {
   "cell_type": "code",
   "execution_count": 67,
   "id": "aa585932",
   "metadata": {},
   "outputs": [
    {
     "name": "stdout",
     "output_type": "stream",
     "text": [
      "Name : Shyam  Salary : 140\n",
      "Name : Babu_Rao  Salary : 150\n",
      "Name : Raju  Salary : 160\n",
      "Name : Pappu  Salary : 200\n"
     ]
    }
   ],
   "source": [
    "class Employee{\n",
    "    constructor(Name,Salary){\n",
    "        this.name=Name\n",
    "        this.salary=Salary\n",
    "    }\n",
    "}\n",
    "let emp=[\n",
    "    new Employee(\"Babu_Rao\",150),\n",
    "    new Employee(\"Raju\",160),\n",
    "    new Employee(\"Shyam\",140),\n",
    "    new Employee(\"Pappu\",200)\n",
    "]\n",
    "let sortEmp=function(emp){\n",
    "    for(let i=0;i<emp.length;i++){\n",
    "        let temp=emp[i],j=i-1 \n",
    "        while(j>=0 && emp[j].salary > temp.salary){\n",
    "            emp[j+1]=emp[j]\n",
    "            j-- \n",
    "        }\n",
    "        emp[j+1]=temp\n",
    "    }\n",
    "    return emp\n",
    "}\n",
    "let ans=sortEmp(emp)\n",
    "ans.forEach((e)=>{\n",
    "    console.log(`Name : ${e.name}  Salary : ${e.salary}`)\n",
    "})"
   ]
  },
  {
   "cell_type": "code",
   "execution_count": 68,
   "id": "825db6c8",
   "metadata": {},
   "outputs": [
    {
     "name": "stdout",
     "output_type": "stream",
     "text": [
      "4\n"
     ]
    }
   ],
   "source": [
    "let countPrime=function(n){\n",
    "    let isPrime=new Array(n).fill(true)\n",
    "    isPrime[0]=isPrime[1]=false\n",
    "    for(let i=2;i*i<n;i++){\n",
    "        if(isPrime[i]){\n",
    "            for(let j=i*i;j<n;j+=i){\n",
    "                isPrime[j]=false\n",
    "            }\n",
    "        }\n",
    "    }\n",
    "    return isPrime.filter(prime=>prime).length\n",
    "}\n",
    "let n=10\n",
    "console.log(countPrime(n))"
   ]
  },
  {
   "cell_type": "code",
   "execution_count": 70,
   "id": "31e821b6",
   "metadata": {},
   "outputs": [
    {
     "name": "stdout",
     "output_type": "stream",
     "text": [
      "3\n"
     ]
    }
   ],
   "source": [
    "let jewelsStone=function(jewels,stones){\n",
    "    let count=0\n",
    "    for(let i=0;i<jewels.length;i++){\n",
    "        for(let j=0;j<stones.length;j++){\n",
    "            if(jewels[i] === stones[j] ){\n",
    "                count++\n",
    "            }\n",
    "        }\n",
    "    }\n",
    "    return count\n",
    "}\n",
    "let jewels = \"aA\", stones = \"aAAbbbb\"\n",
    "console.log(jewelsStone(jewels,stones))"
   ]
  },
  {
   "cell_type": "code",
   "execution_count": null,
   "id": "36178a0f",
   "metadata": {},
   "outputs": [
    {
     "name": "stdout",
     "output_type": "stream",
     "text": [
      "[\n",
      "  2, -3, 0, -5,\n",
      "  9,  8, 7\n",
      "]\n",
      "-5\n"
     ]
    },
    {
     "data": {
      "text/plain": [
       "\u001b[33m8\u001b[39m"
      ]
     },
     "execution_count": 79,
     "metadata": {},
     "output_type": "execute_result"
    }
   ],
   "source": [
    "var MinStack=function(){\n",
    "    this.stack=[]\n",
    "}\n",
    "MinStack.prototype.push=function(val){\n",
    "    this.stack.push(val)\n",
    "}\n",
    "MinStack.prototype.pop=function(){\n",
    "    return this.stack.pop()\n",
    "}\n",
    "MinStack.prototype.top=function(){\n",
    "    return this.stack[this.stack.length-1]\n",
    "}\n",
    "MinStack.prototype.getMin=function(){\n",
    "    return Math.min(... this.stack)\n",
    "}\n",
    "\n",
    "let ans=new MinStack()\n",
    "let data=[2,-3,0,-5,9,8,7]\n",
    "data.forEach((val)=>{\n",
    "    ans.push(val)\n",
    "})\n",
    "console.log(data)\n",
    "console.log(ans.getMin())\n",
    "ans.pop()\n",
    "ans.top()\n"
   ]
  },
  {
   "cell_type": "code",
   "execution_count": 85,
   "id": "1042212d",
   "metadata": {},
   "outputs": [
    {
     "name": "stdout",
     "output_type": "stream",
     "text": [
      "true\n"
     ]
    }
   ],
   "source": [
    "let validateParenthesis=function(s){\n",
    "    let dict={']':'[','}':'{',')':'('},stack=[]\n",
    "    for(let i of s){\n",
    "        if(i in dict){\n",
    "            if(stack.length === 0 || stack.pop() !== dict[i])return false\n",
    "        }\n",
    "        else{\n",
    "            stack.push(i)\n",
    "        }\n",
    "    }\n",
    "    return stack.length === 0\n",
    "}\n",
    "let s='[]{}'\n",
    "console.log(validateParenthesis(s))"
   ]
  },
  {
   "cell_type": "code",
   "execution_count": 89,
   "id": "a63ee42e",
   "metadata": {},
   "outputs": [
    {
     "name": "stdout",
     "output_type": "stream",
     "text": [
      "true\n"
     ]
    }
   ],
   "source": [
    "let validateStackSeqence=function(pushed,popped){\n",
    "    let stack=[]\n",
    "    for(let i of pushed){\n",
    "        stack.push(i)\n",
    "        while(stack.length && stack[stack.length-1] === popped[0]){\n",
    "            stack.pop()\n",
    "            popped.shift()\n",
    "        }\n",
    "    }\n",
    "    return stack.length === 0\n",
    "}\n",
    "let pushed = [1,2,3,4,5], popped = [4,5,3,2,1]\n",
    "console.log(validateStackSeqence(pushed,popped))"
   ]
  },
  {
   "cell_type": "code",
   "execution_count": 93,
   "id": "43f2792d",
   "metadata": {},
   "outputs": [
    {
     "name": "stdout",
     "output_type": "stream",
     "text": [
      "ca\n"
     ]
    }
   ],
   "source": [
    "let removeDup=function(s){\n",
    "    let stack=[]\n",
    "    for(let i of s){\n",
    "        if(stack.length && stack[stack.length-1] === i){\n",
    "            stack.pop()\n",
    "        }\n",
    "        else{\n",
    "            stack.push(i)\n",
    "        }\n",
    "    }\n",
    "    return stack.join('')\n",
    "}\n",
    "let s=\"abbaca\"\n",
    "console.log(removeDup(s))"
   ]
  },
  {
   "cell_type": "code",
   "execution_count": 95,
   "id": "932d5b1e",
   "metadata": {},
   "outputs": [
    {
     "name": "stdout",
     "output_type": "stream",
     "text": [
      "[ 2, -1, 2 ]\n"
     ]
    }
   ],
   "source": [
    "let nextGreaterElement=function(nums){\n",
    "    let arr=new Array(nums.length),maxi=-1\n",
    "    for(let i=0;i<nums.length;i++){\n",
    "        arr[i]=-1\n",
    "        for(let j=1;j<nums.length;j++){\n",
    "            let index=(i+j)%nums.length\n",
    "            if(nums[index] > nums[i]){\n",
    "                arr[i]=nums[index]\n",
    "            }\n",
    "        }\n",
    "    }\n",
    "    return arr\n",
    "}\n",
    "let nums=[1,2,1]\n",
    "console.log(nextGreaterElement(nums))"
   ]
  },
  {
   "cell_type": "code",
   "execution_count": null,
   "id": "0fa4773a",
   "metadata": {},
   "outputs": [],
   "source": [
    "let stockSpan=function(){\n",
    "    this.stack=[]\n",
    "}\n",
    "stockSpan.prototype.next=function(price){\n",
    "    let span=1\n",
    "    while(this.stack.length && this.stack[this.stack.length-1].price<=price){\n",
    "        span+=this.stack.pop().span\n",
    "    }\n",
    "    this.stack.push({price,span})\n",
    "    return span\n",
    "}"
   ]
  },
  {
   "cell_type": "code",
   "execution_count": 98,
   "id": "b075e01f",
   "metadata": {},
   "outputs": [
    {
     "name": "stdout",
     "output_type": "stream",
     "text": [
      "10\n"
     ]
    }
   ],
   "source": [
    "let maximumRectHisto=function(heights){\n",
    "    height.push(0)\n",
    "    let stack=[-1],maxi=0\n",
    "    for(let i=0;i<heights.length;i++){\n",
    "        while(heights[i] < heights[stack[stack.length-1]]){\n",
    "            let left=heights[stack.pop()]\n",
    "            let right=i-stack[stack.length-1]-1\n",
    "            maxi=Math.max(maxi,left*right)\n",
    "        }\n",
    "        stack.push(i)\n",
    "    }\n",
    "    return maxi\n",
    "}\n",
    "let heights = [2,1,5,6,2,3]\n",
    "console.log(maximumRectHisto(heights))"
   ]
  },
  {
   "cell_type": "code",
   "execution_count": 101,
   "id": "86d27540",
   "metadata": {},
   "outputs": [
    {
     "name": "stdout",
     "output_type": "stream",
     "text": [
      "aabbdd\n"
     ]
    }
   ],
   "source": [
    "let nonRepeatingChar=function(A){\n",
    "    let freq=new Array(26).fill(0)\n",
    "    let stack=[],ans=''\n",
    "    for(let i of A){\n",
    "        let index=i.charCodeAt(0)-'a'.charCodeAt(0)\n",
    "        freq[index]++\n",
    "        stack.push(i)\n",
    "        while(stack.length && freq[stack[0].charCodeAt(0)-'a'.charCodeAt(0)]>1){\n",
    "            stack.shift()\n",
    "        }\n",
    "        if(stack.length){\n",
    "            ans+=stack[0]\n",
    "        }else{\n",
    "            ans+='#'\n",
    "        }\n",
    "    }\n",
    "    return ans\n",
    "\n",
    "}\n",
    "let A=\"abadbc\"\n",
    "console.log(nonRepeatingChar(A))"
   ]
  },
  {
   "cell_type": "code",
   "execution_count": 105,
   "id": "18b2cbcf",
   "metadata": {},
   "outputs": [
    {
     "name": "stdout",
     "output_type": "stream",
     "text": [
      "[ 3, 3, 5, 5, 6, 7 ]\n"
     ]
    }
   ],
   "source": [
    "let slidingWindowMaximum=function(nums,k){\n",
    "    let dequeue=[],ans=[]\n",
    "    for(let i=0;i<nums.length;i++){\n",
    "        while(dequeue.length && dequeue[0] < i-k+1){\n",
    "            dequeue.shift()\n",
    "        }\n",
    "        while(dequeue.length && dequeue[dequeue.length-1]<nums[i]){\n",
    "            dequeue.pop()\n",
    "        }\n",
    "        dequeue.push(i)\n",
    "        if(i >= k-1){\n",
    "            ans.push(nums[dequeue[0]])\n",
    "        }\n",
    "    }\n",
    "    return ans\n",
    "}\n",
    "let nums = [1,3,-1,-3,5,3,6,7], k = 3\n",
    "console.log(slidingWindowMaximum(nums,k))"
   ]
  },
  {
   "cell_type": "code",
   "execution_count": 2,
   "id": "68c8a4a2",
   "metadata": {},
   "outputs": [
    {
     "name": "stdout",
     "output_type": "stream",
     "text": [
      "[ 3, 3, 5, 5, 6, 7 ]\n"
     ]
    }
   ],
   "source": [
    "let maximumSLidingWIndow=function(nums,k){\n",
    "    let queue=[] ,ans=[]\n",
    "    for(let i=0;i<nums.length;i++){\n",
    "        while(queue.length && queue[0] < i-k+1){\n",
    "            queue.shift()\n",
    "        }\n",
    "        while(queue.length && queue[queue.length-1] < nums[i]){\n",
    "            queue.pop()\n",
    "        }\n",
    "        queue.push(i)\n",
    "        if(i >= k-1){\n",
    "            ans.push(nums[queue[0]])\n",
    "        }\n",
    "    }\n",
    "    return ans\n",
    "}\n",
    "let nums=[1,3,-1,-3,5,3,6,7],k=3\n",
    "console.log(maximumSLidingWIndow(nums,k))\n"
   ]
  },
  {
   "cell_type": "code",
   "execution_count": 2,
   "id": "fbd1f777",
   "metadata": {},
   "outputs": [
    {
     "name": "stdout",
     "output_type": "stream",
     "text": [
      "[\n",
      "  5, 6, 7, 1,\n",
      "  2, 3, 4\n",
      "]\n"
     ]
    }
   ],
   "source": [
    "let rotatedArray=function(nums,k){\n",
    "    k=k%nums.length\n",
    "    let rotated=nums.slice(-k).concat(nums.slice(0,-k))\n",
    "    for(let i=0;i<nums.length;i++){\n",
    "        nums[i]=rotated[i]\n",
    "    }\n",
    "    return nums\n",
    "}\n",
    "let nums = [1,2,3,4,5,6,7], k = 3\n",
    "console.log(rotatedArray(nums,k))"
   ]
  },
  {
   "cell_type": "code",
   "execution_count": 5,
   "id": "3e8d95d1",
   "metadata": {},
   "outputs": [
    {
     "name": "stdout",
     "output_type": "stream",
     "text": [
      "4\n"
     ]
    }
   ],
   "source": [
    "let binarySearch=function(nums,target){\n",
    "    let left=0,right=nums.length-1\n",
    "    while(left <= right){\n",
    "        let mid=Math.floor((left+right)/2)\n",
    "        if(nums[mid] === target)return mid\n",
    "        else if(nums[mid] > target){\n",
    "            right=mid-1 \n",
    "        }\n",
    "        else{\n",
    "            left=mid+1 \n",
    "        }\n",
    "    }\n",
    "    return -1\n",
    "}\n",
    "let nums = [-1,0,3,5,9,12], target = 9\n",
    "console.log(binarySearch(nums,target))"
   ]
  },
  {
   "cell_type": "code",
   "execution_count": 7,
   "id": "9f2f9142",
   "metadata": {},
   "outputs": [
    {
     "name": "stdout",
     "output_type": "stream",
     "text": [
      "[ 0, 1 ]\n"
     ]
    }
   ],
   "source": [
    "let twoSum=function(nums,target){\n",
    "    for(let i=0;i<nums.length;i++){\n",
    "        for(let j=1;j<nums.length;j++){\n",
    "            if((nums[i]+nums[j])=== target)return [i,j]\n",
    "        }\n",
    "    }\n",
    "    return [-1,-1]\n",
    "}\n",
    "let nums = [2,7,11,15], target = 9\n",
    "console.log(twoSum(nums,target))"
   ]
  },
  {
   "cell_type": "code",
   "execution_count": 9,
   "id": "504b0e21",
   "metadata": {},
   "outputs": [
    {
     "name": "stdout",
     "output_type": "stream",
     "text": [
      "2\n"
     ]
    }
   ],
   "source": [
    "let findLuckyInt=function(nums){\n",
    "    let set=new Set(nums),maxi=-1\n",
    "    for(let i of set){\n",
    "        let lucky=nums.filter(sh=>sh===i).length\n",
    "        if(lucky === i)maxi=Math.max(maxi,i)\n",
    "    }\n",
    "    return maxi\n",
    "}\n",
    "let  arr = [2,2,3,4]\n",
    "console.log(findLuckyInt(arr))"
   ]
  },
  {
   "cell_type": "code",
   "execution_count": 11,
   "id": "5a03c90a",
   "metadata": {},
   "outputs": [
    {
     "name": "stdout",
     "output_type": "stream",
     "text": [
      "4\n"
     ]
    }
   ],
   "source": [
    "let countPrime=function(n){\n",
    "    let isPrime=new Array(n).fill(true)\n",
    "    isPrime[0]=isPrime[1]=false\n",
    "    for(let i=2;i*i<n;i++){\n",
    "        if(isPrime[i]){\n",
    "            for(let j=i*i;j<n;j+=i){\n",
    "                isPrime[j]=false\n",
    "            }\n",
    "        }\n",
    "    }\n",
    "    return isPrime.filter(prime=> prime).length\n",
    "}\n",
    "let n=10\n",
    "console.log(countPrime(n))"
   ]
  },
  {
   "cell_type": "code",
   "execution_count": 15,
   "id": "f7cc6294",
   "metadata": {},
   "outputs": [
    {
     "name": "stdout",
     "output_type": "stream",
     "text": [
      "true\n"
     ]
    }
   ],
   "source": [
    "let validParenthesis=function(s){\n",
    "    let dict={']':'[','}':'{',')':'('},stack=[]\n",
    "    for(let i of s){\n",
    "        if(i in dict){\n",
    "            if(stack.length === 0 || stack.pop() !== dict[i])return false\n",
    "        }\n",
    "        stack.push(i)\n",
    "    }\n",
    "    return true\n",
    "}\n",
    "let s=\"[]{}\"\n",
    "console.log(validParenthesis(s))"
   ]
  },
  {
   "cell_type": "code",
   "execution_count": 16,
   "id": "c6115715",
   "metadata": {},
   "outputs": [
    {
     "name": "stdout",
     "output_type": "stream",
     "text": [
      "true\n"
     ]
    }
   ],
   "source": [
    "let validateStackSeq=function(pushed,popped){\n",
    "    let stack=[]\n",
    "    for(let i of pushed){\n",
    "        stack.push(i)\n",
    "        while(stack.length && stack[stack.length-1] === popped[0]){\n",
    "            stack.pop()\n",
    "            popped.shift()\n",
    "        }\n",
    "    }\n",
    "    return stack.length === 0\n",
    "}\n",
    "let  pushed = [1,2,3,4,5], popped = [4,5,3,2,1]\n",
    "console.log(validateStackSeq(pushed,popped))"
   ]
  },
  {
   "cell_type": "code",
   "execution_count": null,
   "id": "2d43d4ea",
   "metadata": {},
   "outputs": [
    {
     "name": "stdout",
     "output_type": "stream",
     "text": [
      "ca\n"
     ]
    }
   ],
   "source": [
    "let removeAllAdjacant=function(s){\n",
    "    let stack=[]\n",
    "    for(let i of s){\n",
    "        if(stack.length && stack[stack.length-1]===i)stack.pop()\n",
    "        else stack.push(i)\n",
    "    }\n",
    "    return stack.join('')\n",
    "}\n",
    "let s=\"abbaca\"\n",
    "console.log(removeAllAdjacant(s))"
   ]
  },
  {
   "cell_type": "code",
   "execution_count": 22,
   "id": "8605425d",
   "metadata": {},
   "outputs": [
    {
     "name": "stdout",
     "output_type": "stream",
     "text": [
      "[ 2, -1, 2 ]\n"
     ]
    }
   ],
   "source": [
    "let nextGreaterElement=function(nums){\n",
    "    let arr=new Array(nums.length)\n",
    "    for(let i=0;i<nums.length;i++){\n",
    "        arr[i]=-1 \n",
    "        for(let j=1;j<nums.length;j++){\n",
    "            let index=(i+j)%nums.length\n",
    "            if(nums[index] > nums[i]){\n",
    "                arr[i]=nums[index]\n",
    "                break\n",
    "            }\n",
    "        }\n",
    "    }\n",
    "    return arr\n",
    "}\n",
    "let nums=[1,2,1]\n",
    "console.log(nextGreaterElement(nums))"
   ]
  },
  {
   "cell_type": "code",
   "execution_count": null,
   "id": "173df5b5",
   "metadata": {},
   "outputs": [],
   "source": [
    "let onlineStockSpan=function(){\n",
    "    this.stack=[]\n",
    "}\n",
    "onlineStockSpan.prototype.next=function(price){\n",
    "    let span=1\n",
    "    while(this.stack.length && this.stack[this.stack.length-1].price < price){\n",
    "        span+=this.stack.pop().span\n",
    "    }\n",
    "    this.stack.push({price,span})\n",
    "    return span\n",
    "}"
   ]
  },
  {
   "cell_type": "code",
   "execution_count": 25,
   "id": "bdbb0a75",
   "metadata": {},
   "outputs": [
    {
     "name": "stdout",
     "output_type": "stream",
     "text": [
      "10\n"
     ]
    }
   ],
   "source": [
    "let largestRectHisto=function(heights){\n",
    "    heights.push(0)\n",
    "    let stack=[-1],maxi=0\n",
    "    for(let i=0;i<heights.length;i++){\n",
    "        while(heights[i] < heights[stack[stack.length-1]]){\n",
    "            let left=heights[stack.pop()]\n",
    "            let right=i-stack[stack.length-1]-1\n",
    "            maxi=Math.max(maxi,left*right)\n",
    "        }\n",
    "        stack.push(i)\n",
    "    }\n",
    "    return maxi\n",
    "}\n",
    "let heights = [2,1,5,6,2,3]\n",
    "console.log(largestRectHisto(heights))"
   ]
  },
  {
   "cell_type": "code",
   "execution_count": 27,
   "id": "feaae4b1",
   "metadata": {},
   "outputs": [
    {
     "name": "stdout",
     "output_type": "stream",
     "text": [
      "aabbdd\n"
     ]
    }
   ],
   "source": [
    "let nonRepeatingCHar=function(A){\n",
    "    let freq=new Array(26).fill(0)\n",
    "    let stack=[],ans=''\n",
    "    for(let i of A){\n",
    "        let index=i.charCodeAt(0)-'a'.charCodeAt(0)\n",
    "        freq[index]++\n",
    "        stack.push(i)\n",
    "        while(stack.length && freq[stack[0].charCodeAt(0)-'a'.charCodeAt(0)]>1){\n",
    "            stack.shift()\n",
    "        }\n",
    "        if(stack.length){\n",
    "            ans+=stack[0]\n",
    "        }\n",
    "        else{\n",
    "            ans+='#'\n",
    "        }\n",
    "    }\n",
    "    return ans\n",
    "}\n",
    "let  A='abadbc'\n",
    "console.log(nonRepeatingCHar(A))"
   ]
  },
  {
   "cell_type": "code",
   "execution_count": null,
   "id": "ed39de17",
   "metadata": {},
   "outputs": [],
   "source": [
    "/* linked List */ "
   ]
  },
  {
   "cell_type": "code",
   "execution_count": 28,
   "id": "a59c4a1f",
   "metadata": {},
   "outputs": [
    {
     "name": "stdout",
     "output_type": "stream",
     "text": [
      "18\n",
      "14\n",
      "12\n"
     ]
    }
   ],
   "source": [
    "class Node{\n",
    "    constructor(data){\n",
    "        this.data=data\n",
    "        this.next=null\n",
    "    }\n",
    "}\n",
    "class LinkedList{\n",
    "    constructor(){\n",
    "        this.head=null\n",
    "    }\n",
    "    insertAtStart(data){\n",
    "        let newNode=new Node(data)\n",
    "        newNode.next=this.head\n",
    "        this.head=newNode\n",
    "    }\n",
    "    print(){\n",
    "        let current=this.head\n",
    "        while(current){\n",
    "            console.log(current.data)\n",
    "            current=current.next\n",
    "        }\n",
    "    }\n",
    "}\n",
    "let l1=new LinkedList()\n",
    "l1.insertAtStart(12)\n",
    "l1.insertAtStart(14)\n",
    "l1.insertAtStart(18)\n",
    "l1.print()"
   ]
  },
  {
   "cell_type": "code",
   "execution_count": null,
   "id": "2f8355ab",
   "metadata": {},
   "outputs": [],
   "source": [
    "/* Insert At Beginning */"
   ]
  },
  {
   "cell_type": "code",
   "execution_count": 29,
   "id": "63f3fe9f",
   "metadata": {},
   "outputs": [
    {
     "name": "stdout",
     "output_type": "stream",
     "text": [
      "World\n",
      "9\n",
      "Hello\n"
     ]
    }
   ],
   "source": [
    "class Node{\n",
    "    constructor(data){\n",
    "        this.data=data\n",
    "        this.next=null\n",
    "    }\n",
    "}\n",
    "class LinkedList{\n",
    "    constructor(head){\n",
    "        this.head=null\n",
    "    }\n",
    "    insertAtStart(data){\n",
    "        let newNode=new Node(data)\n",
    "        newNode.next=this.head\n",
    "        this.head=newNode\n",
    "    }\n",
    "    print(){\n",
    "        let current=this.head\n",
    "        while(current){\n",
    "            console.log(current.data)\n",
    "            current=current.next\n",
    "        }\n",
    "    }\n",
    "}\n",
    "let l1=new LinkedList()\n",
    "l1.insertAtStart('Hello')\n",
    "l1.insertAtStart(9)\n",
    "l1.insertAtStart('World')\n",
    "\n",
    "l1.print()"
   ]
  },
  {
   "cell_type": "code",
   "execution_count": null,
   "id": "53a02cf2",
   "metadata": {},
   "outputs": [],
   "source": [
    "class Node{\n",
    "    constructor(data){\n",
    "        this.data=data\n",
    "        this.next=null\n",
    "    }\n",
    "}\n",
    "class linkedList{\n",
    "    constructor(){\n",
    "        this.head=null\n",
    "    }\n",
    "    insertAtMiddle(data,index){\n",
    "        let newNode=new Node(data)\n",
    "        if(index === 0 || !this.head){\n",
    "            newNode.next=this.head\n",
    "            this.head=newNode\n",
    "            return \n",
    "        }\n",
    "        let current=this.head\n",
    "        for(let i=0;i<index && this.head;i++){\n",
    "            current=current.next\n",
    "        }\n",
    "        newNode=current.next\n",
    "        current.next=newNode\n",
    "    }\n",
    "\n",
    "}"
   ]
  },
  {
   "cell_type": "code",
   "execution_count": null,
   "id": "109b2fc8",
   "metadata": {},
   "outputs": [],
   "source": [
    "class Node{\n",
    "    constructor(data){\n",
    "        this.data=data \n",
    "        this.next=null\n",
    "    }\n",
    "\n",
    "}\n",
    "class linkedList{\n",
    "    constructor(){\n",
    "        this.head=null\n",
    "    }\n",
    "    insertInMiddle(index,data){\n",
    "        let newNode=new Node(data)\n",
    "        if(index === 0  || !this.head){\n",
    "            newNode.next=this.head\n",
    "            this.head=newNode\n",
    "            return\n",
    "        }\n",
    "        let current=this.head\n",
    "        for(let i=0;i<index && this.head;i++){\n",
    "            current=current.next\n",
    "        }\n",
    "        newNode.next=current.next\n",
    "        current.next=newNode\n",
    "    }\n",
    "}\n"
   ]
  },
  {
   "cell_type": "code",
   "execution_count": null,
   "id": "d77c700e",
   "metadata": {},
   "outputs": [],
   "source": [
    "class Node{\n",
    "    constructor(data){\n",
    "        this.data=data\n",
    "        this.next=null\n",
    "    } \n",
    "}\n",
    "class linkedList{\n",
    "    constructor(){\n",
    "        this.head=null\n",
    "    }\n",
    "    insertIntheMiddle(index,data){\n",
    "        let newNode=new Node(data)\n",
    "        if(index === 0 || !this.head){\n",
    "            newNode.next=this.head\n",
    "            this.head=newNode\n",
    "            return\n",
    "        }\n",
    "        let current=this.head\n",
    "        for(let i=0;i<index-1 && current.next ;i++){\n",
    "            current=current.next\n",
    "        }\n",
    "        newNode.next=current.next\n",
    "        current.next=newNode\n",
    "    }\n",
    "}"
   ]
  },
  {
   "cell_type": "code",
   "execution_count": 32,
   "id": "eed59ffb",
   "metadata": {},
   "outputs": [
    {
     "name": "stdout",
     "output_type": "stream",
     "text": [
      "12\n",
      "14\n",
      "16\n"
     ]
    }
   ],
   "source": [
    "class Node{\n",
    "    constructor(data){\n",
    "        this.data=data \n",
    "        this.next=null \n",
    "    }\n",
    "}\n",
    "class linkedList{\n",
    "    constructor(){\n",
    "        this.head=null\n",
    "    }\n",
    "    insertAtMiddle(index,data){\n",
    "        let newNode=new Node(data)\n",
    "        if(index === 0 || !this.head){\n",
    "            newNode.next=this.head\n",
    "            this.head=newNode\n",
    "            return\n",
    "        }\n",
    "        let current=this.head\n",
    "        for(let i=0;i<index-1 && current.next;i++){\n",
    "            current=current.next\n",
    "        }\n",
    "        newNode.next=current.next\n",
    "        current.next=newNode\n",
    "    }\n",
    "    print(){\n",
    "        let current=this.head\n",
    "        while(current){\n",
    "            console.log(current.data)\n",
    "            current=current.next \n",
    "        }\n",
    "    }\n",
    "}    \n",
    "let l= new linkedList()\n",
    "l.insertAtMiddle(0,12)\n",
    "l.insertAtMiddle(1,14)\n",
    "l.insertAtMiddle(2,16)\n",
    "l.print()"
   ]
  },
  {
   "cell_type": "code",
   "execution_count": 34,
   "id": "e384b068",
   "metadata": {},
   "outputs": [
    {
     "name": "stdout",
     "output_type": "stream",
     "text": [
      "12\n",
      "24\n",
      "36\n"
     ]
    }
   ],
   "source": [
    "class Node{\n",
    "    constructor(data){\n",
    "        this.data=data \n",
    "        this.next=null \n",
    "    }\n",
    "}\n",
    "class linkedList{\n",
    "    constructor(){\n",
    "        this.head=null \n",
    "    }\n",
    "    insertMiddle(index,data){\n",
    "        let newNode=new Node(data)\n",
    "        if(index === 0 || !this.head){\n",
    "            newNode.next=this.head \n",
    "            this.head=newNode\n",
    "            return\n",
    "        }\n",
    "        let current=this.head \n",
    "        for(let i=0;i<index-1 && current.next;i++){\n",
    "            current=current.next \n",
    "        }\n",
    "        newNode.next=current.next\n",
    "        current.next=newNode\n",
    "    }\n",
    "    print(){\n",
    "        let current=this.head \n",
    "        while(current){\n",
    "            console.log(current.data)\n",
    "            current=current.next\n",
    "        }\n",
    "    }\n",
    "}\n",
    "let l=new linkedList()\n",
    "l.insertMiddle(1,24)\n",
    "l.insertMiddle(0,12)\n",
    "l.insertMiddle(2,36)\n",
    "l.print()"
   ]
  },
  {
   "cell_type": "code",
   "execution_count": 36,
   "id": "d91ccd8c",
   "metadata": {},
   "outputs": [
    {
     "name": "stdout",
     "output_type": "stream",
     "text": [
      "[ 2, -1, 2 ]\n"
     ]
    }
   ],
   "source": [
    "let nextGreaterElement=function(nums){\n",
    "    let arr=new Array(nums.length)\n",
    "    for(let i=0;i<nums.length;i++){\n",
    "        arr[i]=-1\n",
    "        for(let j=1;j<nums.length;j++){\n",
    "            let index=(i+j)%nums.length\n",
    "            if(nums[index]> nums[i]){\n",
    "                arr[i]=nums[index]\n",
    "                break\n",
    "            }\n",
    "        }\n",
    "    }\n",
    "    return arr \n",
    "}\n",
    "let nums=[1,2,1]\n",
    "console.log(nextGreaterElement(nums))"
   ]
  },
  {
   "cell_type": "code",
   "execution_count": null,
   "id": "10f121ac",
   "metadata": {},
   "outputs": [],
   "source": [
    "class Node{\n",
    "    constructor(data){\n",
    "        this.data=data \n",
    "        this.next=null \n",
    "    }\n",
    "}\n",
    "class linkedList{\n",
    "    constructor(){\n",
    "        this.head=null \n",
    "    }\n",
    "    insertAtEnd(data){\n",
    "        let newNode=new Node(data)\n",
    "        if(!this.head){\n",
    "            this.head=newNode\n",
    "            return\n",
    "        }\n",
    "        let current=this.head \n",
    "        while(current.next){\n",
    "            current=current.next\n",
    "        }\n",
    "        current.next=newNode\n",
    "    }\n",
    "}"
   ]
  },
  {
   "cell_type": "code",
   "execution_count": null,
   "id": "13310734",
   "metadata": {},
   "outputs": [],
   "source": [
    "class node{\n",
    "    constructor(data){\n",
    "        this.data=data\n",
    "        this.next=null \n",
    "    }\n",
    "}\n",
    "class linkedList{\n",
    "    constructor(){\n",
    "        this.head=null \n",
    "    }\n",
    "    insertEnd(data){\n",
    "        let newNode=new node(data)\n",
    "        if(!this.head){\n",
    "            this.head=newNode\n",
    "            return \n",
    "        }\n",
    "        let current=this.head \n",
    "        while(current.next){\n",
    "            current=current.next\n",
    "        }\n",
    "        current.next=newNode \n",
    "    }\n",
    "}"
   ]
  },
  {
   "cell_type": "code",
   "execution_count": null,
   "id": "39a02353",
   "metadata": {},
   "outputs": [],
   "source": [
    "class node{\n",
    "    constructor(data){\n",
    "        this.data=data \n",
    "        this.next=null \n",
    "    }\n",
    "}\n",
    "class linkedList{\n",
    "    constructor(){\n",
    "        this.head=null \n",
    "    }\n",
    "    insertAtStart(data){\n",
    "        let newNode=new node(data)\n",
    "        newNode.next=this.head \n",
    "        this.head = newNode\n",
    "    }\n",
    "    insertAtMiddle(index,data){\n",
    "        let newNode=new node(data)\n",
    "        if(!this.head || index === 0){\n",
    "            this.head=newNode\n",
    "            return\n",
    "        }\n",
    "        let current=this.head\n",
    "        for(let i=0;i<index-1 && current.next;i++){\n",
    "            current=current.next\n",
    "        }\n",
    "        newNode.next=current.next\n",
    "        current.next=newNode\n",
    "    }\n",
    "    insertAtEnd(data){\n",
    "        let newNode=new node(data)\n",
    "        if(!this.head){\n",
    "            this.head=newNode\n",
    "            return\n",
    "        }\n",
    "        let current=this.head \n",
    "        while(current.next){\n",
    "            current=current.next\n",
    "        }\n",
    "        current.next=newNode\n",
    "    }\n",
    "    print(){\n",
    "        let current=this.head\n",
    "        while(current){\n",
    "            console.log(current.data)\n",
    "            current=current.next\n",
    "        }\n",
    "    }\n",
    "}"
   ]
  },
  {
   "cell_type": "code",
   "execution_count": null,
   "id": "33b10d67",
   "metadata": {},
   "outputs": [],
   "source": [
    "class Node{\n",
    "    constructor(data){\n",
    "        this.data=data \n",
    "        this.next=null \n",
    "    }\n",
    "}\n",
    "class linkedList{\n",
    "    constructor(){\n",
    "        this.head=null\n",
    "    }\n",
    "    insertAtStart(data){\n",
    "        let newNode=new Node(data)\n",
    "        newNode.next=this.head \n",
    "        this.head=newNode \n",
    "    }\n",
    "    insertAtMiddle(index,data){\n",
    "        let newNode=new Node(data)\n",
    "        if(index === 0 || !this.head){\n",
    "            this.head=newNode\n",
    "            return\n",
    "        }\n",
    "        let current=this.head\n",
    "        for(let i=0;i<index-1 && current.next;i++){\n",
    "            current=current.next\n",
    "        }\n",
    "        newNode.next=current.next\n",
    "        current.next=newNode\n",
    "    }\n",
    "    insertAtEnd(data){\n",
    "        let newNode=new Node(data)\n",
    "        if(!this.head){\n",
    "            this.head=newNode \n",
    "            return\n",
    "        }\n",
    "        let current=this.head \n",
    "        while(current.next){\n",
    "            current=current.next\n",
    "        }\n",
    "        current.next=newNode\n",
    "    }\n",
    "    print(){\n",
    "        let current=this.head \n",
    "        while(current){\n",
    "            console.log(current.data)\n",
    "            current=current.next\n",
    "        }\n",
    "    }\n",
    "}\n"
   ]
  },
  {
   "cell_type": "code",
   "execution_count": null,
   "id": "7eed2f63",
   "metadata": {},
   "outputs": [],
   "source": [
    "/* Delete in linked list */ \n",
    "class Node{\n",
    "    constructor(data){\n",
    "        this.data=data \n",
    "        this.next=null \n",
    "    }\n",
    "}\n",
    "class linkedList{\n",
    "    constructor(){\n",
    "        this.head=null \n",
    "    }\n",
    "    insertAtStart(data){\n",
    "        let newNode=new Node(data)\n",
    "        newNode.next=this.head \n",
    "        this.head=newNode\n",
    "    }\n",
    "    deleteAtStart(){\n",
    "        if(!this.head)return\n",
    "        this.head=this.head.next\n",
    "    }\n",
    "    insertMiddle(index,data){\n",
    "        let newNode=new Node(data)\n",
    "        if(index === 0 || !this.head ){\n",
    "            this.head = newNode\n",
    "            return\n",
    "        }\n",
    "        let current=this.head \n",
    "        for(let i=0;i<index-1 && current.next;i++){\n",
    "            current=current.next\n",
    "        }\n",
    "        newNode.next=current.next \n",
    "        current.next=newNode\n",
    "    }\n",
    "    deleteMiddle(index){\n",
    "        if(!this.head)return \n",
    "        if(index === 0){\n",
    "            this.head=this.head.next\n",
    "            return\n",
    "        }    \n",
    "        let current=this.head\n",
    "        for(let i=0;i<index-1 && current.next;i++){\n",
    "            current=current.next\n",
    "        }\n",
    "        if(!current.next)return\n",
    "        current.next=current.next.next\n",
    "    }\n",
    "    insertEnd(data){\n",
    "        let newNode=new Node(data)\n",
    "        if(!this.head){\n",
    "            this.head=newNode\n",
    "            return\n",
    "        }\n",
    "        let current=this.head\n",
    "        while(current.next){\n",
    "            current=current.next\n",
    "        }\n",
    "        current.next=newNode\n",
    "    }\n",
    "    deleteEnd(){\n",
    "        if(!this.head)return \n",
    "        if(!this.head.next){\n",
    "            this.head=null\n",
    "            return\n",
    "        }\n",
    "        let current=this.head \n",
    "        while(current.next.next){\n",
    "            current=current.next\n",
    "        }\n",
    "        current.next=null\n",
    "    }\n",
    "}"
   ]
  },
  {
   "cell_type": "code",
   "execution_count": null,
   "id": "bd256fbd",
   "metadata": {},
   "outputs": [],
   "source": [
    "let removeLinkedList=function(head,val){\n",
    "    let newNode=new listNode(0)\n",
    "    newNode.next=head\n",
    "    let current=newNode\n",
    "    while(current.next){\n",
    "        if(current.next.val === val){\n",
    "            current.next=current.next.next\n",
    "        }\n",
    "        else{\n",
    "            current=current.next\n",
    "        }\n",
    "    }\n",
    "    return newNode.next\n",
    "}"
   ]
  },
  {
   "cell_type": "code",
   "execution_count": null,
   "id": "b99e9bdd",
   "metadata": {},
   "outputs": [],
   "source": [
    "/**\n",
    " * Definition for singly-linked list.\n",
    " * function ListNode(val, next) {\n",
    " *     this.val = (val===undefined ? 0 : val)\n",
    " *     this.next = (next===undefined ? null : next)\n",
    " * }\n",
    " */\n",
    "/**\n",
    " * @param {ListNode} head\n",
    " * @param {number} val\n",
    " * @return {ListNode}\n",
    " */\n",
    "let removeLinkedList=function(head,val){\n",
    "    let newNode= new ListNode(0)\n",
    "    newNode.next=head \n",
    "    let current=newNode \n",
    "    while(current.next){\n",
    "        if(current.next.val === val){\n",
    "            current.next=current.next.next\n",
    "        }\n",
    "        else {\n",
    "            current=current.next \n",
    "        }\n",
    "    }\n",
    "    return newNode.next\n",
    "}"
   ]
  },
  {
   "cell_type": "code",
   "execution_count": 64,
   "id": "50de0b77",
   "metadata": {},
   "outputs": [
    {
     "name": "stdout",
     "output_type": "stream",
     "text": [
      "[ 3, 3, 5, 5, 6, 7 ]\n"
     ]
    }
   ],
   "source": [
    "let slidingWIndowMax=function(nums,k){\n",
    "    let queue=[],ans=[]\n",
    "    for(let i =0;i<nums.length;i++){\n",
    "        while(queue.length && queue[0] < i-k+1){\n",
    "            queue.shift()\n",
    "        }\n",
    "        while(queue.length && queue[queue.length-1] < nums[i]){\n",
    "            queue.pop()\n",
    "        }\n",
    "        queue.push(i)\n",
    "        if(i >= k-1){\n",
    "            ans.push(nums[queue[0]])\n",
    "        }\n",
    "    }\n",
    "    return ans\n",
    "}\n",
    "let nums = [1,3,-1,-3,5,3,6,7], k = 3\n",
    "console.log(slidingWIndowMax(nums,k))"
   ]
  },
  {
   "cell_type": "code",
   "execution_count": 71,
   "id": "8cdb7a59",
   "metadata": {},
   "outputs": [
    {
     "name": "stdout",
     "output_type": "stream",
     "text": [
      "10\n"
     ]
    }
   ],
   "source": [
    "let largestRectHisto=function(heights){\n",
    "    heights.push(0)\n",
    "    let stack=[-1],maxi=0 \n",
    "    for(let i=0;i<heights.length;i++){\n",
    "        while(heights[i] < heights[stack[stack.length-1]]){\n",
    "            let left=heights[stack.pop()]\n",
    "            let right=i-stack[stack.length-1]-1\n",
    "            maxi=Math.max(maxi,left*right)\n",
    "        }\n",
    "        stack.push(i)\n",
    "    }\n",
    "    return maxi\n",
    "}\n",
    "\n",
    "\n",
    "let heights = [2,1,5,6,2,3]\n",
    "console.log(largestRectHisto(heights))"
   ]
  },
  {
   "cell_type": "code",
   "execution_count": null,
   "id": "a81ce941",
   "metadata": {},
   "outputs": [
    {
     "data": {
      "text/plain": [
       "\u001b[36m[Function (anonymous)]\u001b[39m"
      ]
     },
     "execution_count": 72,
     "metadata": {},
     "output_type": "execute_result"
    }
   ],
   "source": [
    "var onlineStackSpan=function(){\n",
    "    this.stack=[]\n",
    "}\n",
    "onlineStackSpan.prototype.next=function(price){\n",
    "    let span=1\n",
    "    while(this.stack && this.stack[this.stack.length-1].price < price){\n",
    "        span+=this.stack.pop().span\n",
    "    }\n",
    "    this.stack.push({price,span})\n",
    "    return span\n",
    "}"
   ]
  },
  {
   "cell_type": "code",
   "execution_count": 73,
   "id": "71e9c564",
   "metadata": {},
   "outputs": [
    {
     "name": "stdout",
     "output_type": "stream",
     "text": [
      "[ 2, -1, 2 ]\n"
     ]
    }
   ],
   "source": [
    "let nextGreaterElement=function(nums){\n",
    "    let arr=new Array(nums.length)\n",
    "    for(let i=0;i<nums.length;i++){\n",
    "        arr[i]=-1 \n",
    "        for(let j=1;j<nums.length;j++){\n",
    "            let index=(i+j)%nums.length\n",
    "            if(nums[index] > nums[i]){\n",
    "                arr[i]=nums[index]\n",
    "            }\n",
    "        }\n",
    "    }\n",
    "    return arr\n",
    "}\n",
    "let nums=[1,2,1]\n",
    "console.log(nextGreaterElement(nums))"
   ]
  },
  {
   "cell_type": "code",
   "execution_count": 74,
   "id": "9e9e089b",
   "metadata": {},
   "outputs": [
    {
     "name": "stdout",
     "output_type": "stream",
     "text": [
      "ca\n"
     ]
    }
   ],
   "source": [
    "let removeAllAdjacant=function(s){\n",
    "    let stack=[]\n",
    "    for(let i of s){\n",
    "        if(stack.length && stack[stack.length -1] === i){\n",
    "            stack.pop()\n",
    "        }\n",
    "        else{\n",
    "            stack.push(i)\n",
    "        }\n",
    "    }\n",
    "    return stack.join('')\n",
    "}\n",
    "let s=\"abbaca\"\n",
    "console.log(removeAllAdjacant(s))"
   ]
  },
  {
   "cell_type": "code",
   "execution_count": 81,
   "id": "3ce4f861",
   "metadata": {},
   "outputs": [
    {
     "name": "stdout",
     "output_type": "stream",
     "text": [
      "true\n"
     ]
    }
   ],
   "source": [
    "let validateStackSeq=function(pushed,popped){\n",
    "    let stack=[]\n",
    "    for(let i of pushed){\n",
    "        stack.push(i)\n",
    "        while(stack.length  && stack[stack.length-1] === popped[0]){\n",
    "            stack.pop()\n",
    "            popped.shift()\n",
    "        }\n",
    "    }\n",
    "    return stack.length === 0\n",
    "}\n",
    "let  pushed = [1,2,3,4,5], popped = [4,5,3,2,1]\n",
    "//let pushed = [1,2,3,4,5], popped = [4,3,5,1,2]\n",
    "console.log(validateStackSeq(pushed,popped))"
   ]
  },
  {
   "cell_type": "code",
   "execution_count": 87,
   "id": "d8402e08",
   "metadata": {},
   "outputs": [
    {
     "name": "stdout",
     "output_type": "stream",
     "text": [
      "false\n"
     ]
    }
   ],
   "source": [
    "let validParenthesis=function(s){\n",
    "    let dict={']':'[','}':'{',')':'('}\n",
    "    let stack=[]\n",
    "    for(let i of s){\n",
    "        if(i in dict){\n",
    "            if(stack.length ===0 || stack.pop() !== dict[i])return false\n",
    "        }\n",
    "        else {\n",
    "            stack.push(i)\n",
    "        }\n",
    "\n",
    "    }\n",
    "    return stack.length === 0\n",
    "}\n",
    "let s='[]}'\n",
    "console.log(validParenthesis(s))"
   ]
  },
  {
   "cell_type": "code",
   "execution_count": 91,
   "id": "b41426c6",
   "metadata": {},
   "outputs": [
    {
     "name": "stdout",
     "output_type": "stream",
     "text": [
      "4\n"
     ]
    }
   ],
   "source": [
    "let countPrime=function(n){\n",
    "    let isPrime=new Array(n).fill(true)\n",
    "    isPrime[0]=isPrime[1]=false\n",
    "    for(let i=2;i*i<n;i++){\n",
    "        if(isPrime[i]){\n",
    "            for(let j=i*i;j<n;j+=i){\n",
    "                isPrime[j]=false\n",
    "            }\n",
    "        }\n",
    "    }\n",
    "    return isPrime.filter(prime=>prime).length\n",
    "}\n",
    "let n=10\n",
    "console.log(countPrime(n))"
   ]
  },
  {
   "cell_type": "code",
   "execution_count": 92,
   "id": "63a006ee",
   "metadata": {},
   "outputs": [
    {
     "name": "stdout",
     "output_type": "stream",
     "text": [
      "2\n"
     ]
    }
   ],
   "source": [
    "let luckyInt=function(arr){\n",
    "    let set=new Set(arr),maxi=-1\n",
    "    for(let i of set){\n",
    "        let lucky=arr.filter(sh=>sh===i).length\n",
    "        if(i === lucky){\n",
    "            maxi=Math.max(maxi,i)\n",
    "        }\n",
    "    }\n",
    "    return maxi\n",
    "\n",
    "}\n",
    "let arr=[2,2,3,4]\n",
    "console.log(luckyInt(arr))"
   ]
  },
  {
   "cell_type": "code",
   "execution_count": 96,
   "id": "148f7449",
   "metadata": {},
   "outputs": [
    {
     "name": "stdout",
     "output_type": "stream",
     "text": [
      "[ 0, 1 ]\n"
     ]
    }
   ],
   "source": [
    "let twoSum=function(nums,target){\n",
    "    for(let i=0;i<nums.length;i++){\n",
    "        for(let j=1;j<nums.length;j++){\n",
    "            if((nums[i] + nums[j])=== target){\n",
    "                return [i,j]\n",
    "            }\n",
    "        }\n",
    "    }\n",
    "    return [-1,-1]\n",
    "}\n",
    "let nums = [2,7,11,15], target = 9\n",
    "console.log(twoSum(nums,target))"
   ]
  },
  {
   "cell_type": "code",
   "execution_count": 97,
   "id": "293663b6",
   "metadata": {},
   "outputs": [
    {
     "name": "stdout",
     "output_type": "stream",
     "text": [
      "4\n"
     ]
    }
   ],
   "source": [
    "let binarySearch=function(nums,target){\n",
    "    let left=0,right=nums.length-1\n",
    "    while(left < right){\n",
    "        let mid=Math.floor((left+right)/2)\n",
    "        if(nums[mid] === target)return mid\n",
    "        else if(nums[mid] > target) right=mid-1 \n",
    "        else left=mid+1\n",
    "    }\n",
    "    return -1\n",
    "}\n",
    "let nums = [-1,0,3,5,9,12], target = 9\n",
    "console.log(binarySearch(nums,target))"
   ]
  },
  {
   "cell_type": "code",
   "execution_count": 98,
   "id": "63aaf96a",
   "metadata": {},
   "outputs": [
    {
     "name": "stdout",
     "output_type": "stream",
     "text": [
      "[\n",
      "  5, 6, 7, 1,\n",
      "  2, 3, 4\n",
      "]\n"
     ]
    }
   ],
   "source": [
    "let rotatedArray=function(nums,k){\n",
    "    k=k%nums.length\n",
    "    let rotated=nums.slice(-k).concat(nums.slice(0,-k))\n",
    "    for(let i=0;i<nums.length;i++){\n",
    "        nums[i]=rotated[i]\n",
    "    }\n",
    "    return nums\n",
    "}\n",
    "let nums = [1,2,3,4,5,6,7], k = 3\n",
    "console.log(rotatedArray(nums,k))"
   ]
  },
  {
   "cell_type": "code",
   "execution_count": 100,
   "id": "ecd1b4d8",
   "metadata": {},
   "outputs": [
    {
     "name": "stdout",
     "output_type": "stream",
     "text": [
      "aaabcbc\n"
     ]
    }
   ],
   "source": [
    "let decodeString=function(s){\n",
    "    let nums=0,str='',stack=[]\n",
    "    for(let i of s){\n",
    "        if(!isNaN(i)){\n",
    "            nums=nums*10+parseInt(i)\n",
    "        }\n",
    "        else if(i === '['){\n",
    "            stack.push(str)\n",
    "            stack.push(nums)\n",
    "            str=''\n",
    "            nums=0\n",
    "        }\n",
    "        else if(i === ']'){\n",
    "            let prevNum=stack.pop()\n",
    "            let prevStr=stack.pop()\n",
    "            str=prevStr+str.repeat(prevNum)\n",
    "        }\n",
    "        else{\n",
    "            str+=i \n",
    "        }\n",
    "    }\n",
    "    return str\n",
    "}\n",
    "let s=\"3[a]2[bc]\"\n",
    "console.log(decodeString(s))"
   ]
  },
  {
   "cell_type": "code",
   "execution_count": 101,
   "id": "2c6780c7",
   "metadata": {},
   "outputs": [
    {
     "name": "stdout",
     "output_type": "stream",
     "text": [
      "2\n"
     ]
    }
   ],
   "source": [
    "let peakElement=function(nums){\n",
    "    let left=0,right=nums.length-1\n",
    "    while(left < right){\n",
    "        let mid=Math.floor((left + right)/2)\n",
    "        if(nums[mid] > nums[mid+1]){\n",
    "            right=mid-1 \n",
    "        }\n",
    "        else{\n",
    "            left=mid+1\n",
    "        }\n",
    "    }\n",
    "    return left\n",
    "}\n",
    "let nums=[1,2,3,1]\n",
    "console.log(peakElement(nums))"
   ]
  },
  {
   "cell_type": "code",
   "execution_count": 104,
   "id": "84ee2dc1",
   "metadata": {},
   "outputs": [
    {
     "name": "stdout",
     "output_type": "stream",
     "text": [
      "[ [ 1, 4, 7 ], [ 2, 5, 8 ], [ 3, 6, 9 ] ]\n"
     ]
    }
   ],
   "source": [
    "let transposeMatrix=function(matrix){\n",
    "    let ans=[]\n",
    "    for(let i=0;i<matrix.length;i++){\n",
    "        ans[i]=[]\n",
    "        for(let j=0;j<matrix.length;j++){\n",
    "            ans[i].push(matrix[j][i])\n",
    "        }\n",
    "    }\n",
    "    return ans\n",
    "}\n",
    "let matrix=[[1,2,3],[4,5,6],[7,8,9]]\n",
    "console.log(transposeMatrix(matrix))"
   ]
  },
  {
   "cell_type": "code",
   "execution_count": 109,
   "id": "389416d2",
   "metadata": {},
   "outputs": [
    {
     "name": "stdout",
     "output_type": "stream",
     "text": [
      "true\n"
     ]
    }
   ],
   "source": [
    "let validPalindrom=function(s){\n",
    "    s=s.toLowerCase().replace(/[^a-z0-9]/g,'')\n",
    "    for(let i=0;i<s.length/2;i++){\n",
    "        if(s[i] !== s[s.length-1-i])return false\n",
    "    }\n",
    "    return true\n",
    "\n",
    "}\n",
    "let s=\"A man, a plan, a canal: Panama\"\n",
    "console.log(validPalindrom(s))"
   ]
  },
  {
   "cell_type": "code",
   "execution_count": 110,
   "id": "59913548",
   "metadata": {},
   "outputs": [
    {
     "name": "stdout",
     "output_type": "stream",
     "text": [
      "true\n"
     ]
    }
   ],
   "source": [
    "let palindrome=function(s){\n",
    "    s=s.toLowerCase().replace(/[^a-z0-9]/g,'')\n",
    "    for(let i=0;i<s.length/2;i++){\n",
    "        if(s[i] !== s[s.length-1-i])return false\n",
    "    }\n",
    "    return true\n",
    "}\n",
    "let s=\"A man, a plan, a canal: Panama\"\n",
    "console.log(palindrome(s))"
   ]
  },
  {
   "cell_type": "code",
   "execution_count": 113,
   "id": "f3d52aed",
   "metadata": {},
   "outputs": [
    {
     "name": "stdout",
     "output_type": "stream",
     "text": [
      "true\n"
     ]
    }
   ],
   "source": [
    "let validAnagram=function(s,t){\n",
    "    if(s.length !== t.length)return false\n",
    "    s=s.split('').sort(),t=t.split('').sort()\n",
    "    for(let i=0;i<s.length;i++){\n",
    "        if(s[i] !== t[i])return false\n",
    "    }\n",
    "    return true\n",
    "}\n",
    "let s= \"anagram\", t = \"nagaram\"\n",
    "console.log(validAnagram(s,t))\n",
    "\n"
   ]
  },
  {
   "cell_type": "code",
   "execution_count": 116,
   "id": "6161b70a",
   "metadata": {},
   "outputs": [
    {
     "name": "stdout",
     "output_type": "stream",
     "text": [
      "2\n"
     ]
    }
   ],
   "source": [
    "let findDup=function(nums){\n",
    "    let set=new Set()\n",
    "    for(let i of nums){\n",
    "        if(set.has (i))return i\n",
    "        set.add(i)\n",
    "    }\n",
    "    return -1\n",
    "}\n",
    "let nums=[1,3,4,2,2]\n",
    "console.log(findDup(nums))"
   ]
  },
  {
   "cell_type": "code",
   "execution_count": 119,
   "id": "c434e8fb",
   "metadata": {},
   "outputs": [
    {
     "name": "stdout",
     "output_type": "stream",
     "text": [
      "2\n"
     ]
    }
   ],
   "source": [
    "let findDuplicate=function(nums){\n",
    "    nums=nums.sort()\n",
    "    for(let i=0;i<nums.length;i++){\n",
    "        if(nums[i] === nums[i+1]){\n",
    "            return nums[i]\n",
    "        }\n",
    "    }\n",
    "    return -1\n",
    "}\n",
    "let nums=[1,3,4,2,2]\n",
    "console.log(findDuplicate(nums))"
   ]
  },
  {
   "cell_type": "code",
   "execution_count": 123,
   "id": "dbc0e3b9",
   "metadata": {},
   "outputs": [
    {
     "name": "stdout",
     "output_type": "stream",
     "text": [
      "3\n"
     ]
    }
   ],
   "source": [
    "let maxConsecutiveOnes=function(nums){\n",
    "    let count=0,maxi=0\n",
    "    for(let i=0;i<nums.length;i++){\n",
    "        if(nums[i] === 1){\n",
    "            count++\n",
    "            maxi=Math.max(maxi,count)\n",
    "        }\n",
    "        else{\n",
    "            count=0\n",
    "        }\n",
    "    }\n",
    "    return count\n",
    "}\n",
    "let nums=[1,1,0,1,1,1]\n",
    "console.log(maxConsecutiveOnes(nums))"
   ]
  },
  {
   "cell_type": "code",
   "execution_count": 125,
   "id": "d5dff281",
   "metadata": {},
   "outputs": [
    {
     "name": "stdout",
     "output_type": "stream",
     "text": [
      "3\n"
     ]
    }
   ],
   "source": [
    "let countConsecutiveOnes=function(nums){\n",
    "    let count=0,maxi=-1\n",
    "    for(let i =0;i<nums.length;i++){\n",
    "        if(nums[i]===1){\n",
    "            count++\n",
    "            maxi=Math.max(maxi,count)\n",
    "        }\n",
    "        else{\n",
    "            count=0\n",
    "        }\n",
    "    }\n",
    "    return maxi\n",
    "}\n",
    "let nums=[1,1,0,2,3,1,1,1]\n",
    "console.log(countConsecutiveOnes(nums))"
   ]
  },
  {
   "cell_type": "code",
   "execution_count": 127,
   "id": "2a9e7d8c",
   "metadata": {},
   "outputs": [
    {
     "name": "stdout",
     "output_type": "stream",
     "text": [
      "2\n"
     ]
    }
   ],
   "source": [
    "let findDuplicate=function(nums){\n",
    "    let set=new Set()\n",
    "    for(let i  of nums){\n",
    "        if(set.has(i)){\n",
    "            return i \n",
    "        }\n",
    "        set.add(i)\n",
    "    }\n",
    "    return -1\n",
    "}\n",
    "let nums=[1,3,4,2,2]\n",
    "console.log(findDuplicate(nums))"
   ]
  },
  {
   "cell_type": "code",
   "execution_count": 128,
   "id": "a4cd1b28",
   "metadata": {},
   "outputs": [
    {
     "name": "stdout",
     "output_type": "stream",
     "text": [
      "2\n"
     ]
    }
   ],
   "source": [
    "let findDuplicate=function(nums){\n",
    "    let set=new Set()\n",
    "    for(let i of nums){\n",
    "        if(set.has(i))return i \n",
    "        set.add(i)\n",
    "    }\n",
    "    return -1\n",
    "}\n",
    "let nums=[1,3,4,2,2]\n",
    "console.log(findDuplicate(nums))\n"
   ]
  },
  {
   "cell_type": "code",
   "execution_count": 130,
   "id": "29716732",
   "metadata": {},
   "outputs": [
    {
     "name": "stdout",
     "output_type": "stream",
     "text": [
      "true\n"
     ]
    }
   ],
   "source": [
    "let validAnagram=function(s,t){\n",
    "    s=s.split('').sort(),t=t.split('').sort()\n",
    "    for(let i =0;i<s.length;i++){\n",
    "        if(s[i] !== t[i])return false\n",
    "    }\n",
    "    return true\n",
    "}\n",
    "//let s=\"rat\", t = \"car\"\n",
    "let s = \"anagram\", t = \"nagaram\"\n",
    "console.log(validAnagram(s,t))"
   ]
  },
  {
   "cell_type": "code",
   "execution_count": 132,
   "id": "8ed5de26",
   "metadata": {},
   "outputs": [
    {
     "name": "stdout",
     "output_type": "stream",
     "text": [
      "true\n"
     ]
    }
   ],
   "source": [
    "let palindrome=function(s){\n",
    "    s=s.toLowerCase().replace(/[^a-z0-9]/g,'')\n",
    "    for(let i=0;i<s.length/2;i++){\n",
    "        if(s[i] !== s[s.length-1-i])return false\n",
    "    }\n",
    "    return true\n",
    "}\n",
    "let s=\"A man, a plan, a canal: Panama\"\n",
    "console.log(palindrome(s))"
   ]
  },
  {
   "cell_type": "code",
   "execution_count": 1,
   "id": "99689de7",
   "metadata": {},
   "outputs": [
    {
     "name": "stdout",
     "output_type": "stream",
     "text": [
      "10\n"
     ]
    }
   ],
   "source": [
    "let largestRectHisto=function(heights){\n",
    "    heights.push(0)\n",
    "    let stack=[-1],maxi=0\n",
    "    for(let i=0;i<heights.length;i++){\n",
    "        while(heights[i] < heights[stack[stack.length-1]]){\n",
    "            let left=heights[stack.pop()]\n",
    "            let right=i-stack[stack.length-1]-1\n",
    "            maxi=Math.max(maxi,(left*right))\n",
    "        }\n",
    "        stack.push(i)\n",
    "    }\n",
    "    return maxi\n",
    "}\n",
    "let  heights = [2,1,5,6,2,3]\n",
    "console.log(largestRectHisto(heights))"
   ]
  },
  {
   "cell_type": "code",
   "execution_count": null,
   "id": "19eb2ed7",
   "metadata": {},
   "outputs": [
    {
     "name": "stdout",
     "output_type": "stream",
     "text": [
      "[ 2, -1, 2 ]\n"
     ]
    }
   ],
   "source": [
    "let nextGreaterElement=function(nums){\n",
    "    let arr=new Array(nums.length)\n",
    "    for(let i=0;i<nums.length;i++){\n",
    "        arr[i]=-1\n",
    "        for(let j=1;j<nums.length;j++){\n",
    "            let index=(i+j)%nums.length\n",
    "            if(nums[index] > nums[i]){\n",
    "                arr[i]=nums[index]\n",
    "                break\n",
    "            }\n",
    "        }\n",
    "    }\n",
    "    return arr\n",
    "}\n",
    "let nums=[1,2,1]\n",
    "console.log(nextGreaterElement(nums)) "
   ]
  },
  {
   "cell_type": "code",
   "execution_count": 13,
   "id": "52198fd4",
   "metadata": {},
   "outputs": [
    {
     "name": "stdout",
     "output_type": "stream",
     "text": [
      "true\n"
     ]
    }
   ],
   "source": [
    "let validateStackSeq=function(pushed,popped){\n",
    "    let stack=[]\n",
    "    for(let i of pushed){\n",
    "        stack.push(i)\n",
    "        while(stack.length && stack[stack.length-1] === popped[0]){\n",
    "            stack.pop()\n",
    "            popped.shift()\n",
    "        }\n",
    "    }\n",
    "    return stack.length === 0\n",
    "}\n",
    "let pushed = [1,2,3,4,5], popped = [4,5,3,2,1]\n",
    "console.log(validateStackSeq(pushed,popped))"
   ]
  },
  {
   "cell_type": "code",
   "execution_count": 15,
   "id": "65142a1e",
   "metadata": {},
   "outputs": [
    {
     "name": "stdout",
     "output_type": "stream",
     "text": [
      "true\n"
     ]
    }
   ],
   "source": [
    "let validateParenthese=function(s){\n",
    "    let dict={']':'[','}':'{',')':'('}\n",
    "    let stack=[]\n",
    "    for(let i of s){\n",
    "        if( i in dict){\n",
    "            if(stack.length === 0 || stack.pop() !== dict[i])return false\n",
    "        }\n",
    "        else{\n",
    "            stack.push(i)\n",
    "        }\n",
    "    }\n",
    "    return stack.length === 0\n",
    "}\n",
    "let s='[]'\n",
    "console.log(validateParenthese(s))"
   ]
  },
  {
   "cell_type": "code",
   "execution_count": 16,
   "id": "4364ff90",
   "metadata": {},
   "outputs": [
    {
     "name": "stdout",
     "output_type": "stream",
     "text": [
      "4\n"
     ]
    }
   ],
   "source": [
    "let countPrime=function(n){\n",
    "    let isPrime=new Array(n).fill(true)\n",
    "    isPrime[0]=isPrime[1]=false\n",
    "    for(let i=2;i*i<n;i++){\n",
    "        if(isPrime[i]){\n",
    "            for(let j=i*i;j<n;j+=i){\n",
    "                isPrime[j]=false\n",
    "            }\n",
    "        }\n",
    "    }\n",
    "    return isPrime.filter(prime=>prime).length\n",
    "}\n",
    "let n=10\n",
    "console.log(countPrime(n))"
   ]
  },
  {
   "cell_type": "code",
   "execution_count": 18,
   "id": "b2653304",
   "metadata": {},
   "outputs": [
    {
     "name": "stdout",
     "output_type": "stream",
     "text": [
      "2\n"
     ]
    }
   ],
   "source": [
    "let luckyInteger=function(arr){\n",
    "    let set=new Set(arr)\n",
    "    let maxi=-1\n",
    "    for(let i of set){\n",
    "        let index=arr.filter(sh=>sh===i).length\n",
    "        if(index === i){\n",
    "            maxi=Math.max(maxi,i)\n",
    "        }\n",
    "    }\n",
    "    return maxi\n",
    "}\n",
    "let arr=[2,2,3,4]\n",
    "console.log(luckyInteger(arr))"
   ]
  },
  {
   "cell_type": "code",
   "execution_count": 23,
   "id": "60a40937",
   "metadata": {},
   "outputs": [
    {
     "name": "stdout",
     "output_type": "stream",
     "text": [
      "aabbdd\n"
     ]
    }
   ],
   "source": [
    "let nonRepeatingChar=function(A){\n",
    "    let freq=new Array(26).fill(0)\n",
    "    let ans='',stack=[]\n",
    "    for(let i of A){\n",
    "        let index=i.charCodeAt(0)-'a'.charCodeAt(0)\n",
    "        freq[index]++\n",
    "        stack.push(i)\n",
    "        while(stack.length && freq[stack[0].charCodeAt(0)-'a'.charCodeAt(0)]>1){\n",
    "            stack.shift()\n",
    "        }\n",
    "        if(stack.length){\n",
    "            ans+=stack[0]\n",
    "        }\n",
    "        else{\n",
    "            ans+='#'\n",
    "        }\n",
    "    }\n",
    "    return ans\n",
    "}\n",
    "let A=\"abadbc\"\n",
    "console.log(nonRepeatingChar(A))"
   ]
  },
  {
   "cell_type": "code",
   "execution_count": 28,
   "id": "f025a5b2",
   "metadata": {},
   "outputs": [
    {
     "name": "stdout",
     "output_type": "stream",
     "text": [
      "[ 3, 3, 5, 5, 6, 7 ]\n"
     ]
    }
   ],
   "source": [
    "let maximumSLidingWindow=function(nums,k){\n",
    "    let queue=[],ans=[]\n",
    "    for(let i=0;i<nums.length;i++){\n",
    "        while(queue.length && queue[0]< i-k+1){\n",
    "            queue.shift()\n",
    "        }\n",
    "        while(queue.length && nums[queue[queue.length-1]] < nums[i]){\n",
    "            queue.pop()\n",
    "        }\n",
    "        queue.push(i)\n",
    "        if(i >= k-1){\n",
    "            ans.push(nums[queue[0]])\n",
    "        }\n",
    "    }\n",
    "    return ans\n",
    "}\n",
    "let  nums = [1,3,-1,-3,5,3,6,7], k = 3\n",
    "console.log(maximumSLidingWindow(nums,k))"
   ]
  }
 ],
 "metadata": {
  "kernelspec": {
   "display_name": "Deno",
   "language": "typescript",
   "name": "deno"
  },
  "language_info": {
   "codemirror_mode": "typescript",
   "file_extension": ".ts",
   "mimetype": "text/x.typescript",
   "name": "typescript",
   "nbconvert_exporter": "script",
   "pygments_lexer": "typescript",
   "version": "5.9.2"
  }
 },
 "nbformat": 4,
 "nbformat_minor": 5
}
