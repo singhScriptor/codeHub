{
 "cells": [
  {
   "cell_type": "code",
   "execution_count": 1,
   "id": "b89afd35",
   "metadata": {},
   "outputs": [
    {
     "name": "stdout",
     "output_type": "stream",
     "text": [
      "5\n"
     ]
    }
   ],
   "source": [
    "def find_Maximum(arr):\n",
    "    maxi=arr[0]\n",
    "    for i in range(len(arr)):\n",
    "        if(arr[i] > maxi):\n",
    "            maxi=arr[i]\n",
    "    return maxi\n",
    "arr=[2,3,1,5,4]\n",
    "print(find_Maximum(arr))        "
   ]
  },
  {
   "cell_type": "code",
   "execution_count": 2,
   "id": "7d882f3d",
   "metadata": {},
   "outputs": [
    {
     "name": "stdout",
     "output_type": "stream",
     "text": [
      "-2\n"
     ]
    }
   ],
   "source": [
    "def find_Minimum(arr):\n",
    "    mini=arr[0]\n",
    "    for i in range(len(arr)):\n",
    "        if(arr[i] < mini):\n",
    "            mini=arr[i]\n",
    "    return mini\n",
    "arr=[5,6,2,9,-2]\n",
    "print(find_Minimum(arr))        "
   ]
  },
  {
   "cell_type": "code",
   "execution_count": 4,
   "id": "bf35ed19",
   "metadata": {},
   "outputs": [
    {
     "name": "stdout",
     "output_type": "stream",
     "text": [
      "[1, 2, 3, 4, 5, 6, 7, 8, 9]\n"
     ]
    }
   ],
   "source": [
    "# store element in an array\n",
    "def storeElement(n):\n",
    "    arr=[]\n",
    "    for i in range(1,n+1):\n",
    "        arr.append(i)\n",
    "    return arr\n",
    "n=9   \n",
    "print(storeElement(n)) "
   ]
  },
  {
   "cell_type": "code",
   "execution_count": 6,
   "id": "cfb6e827",
   "metadata": {},
   "outputs": [
    {
     "name": "stdout",
     "output_type": "stream",
     "text": [
      "[2, 3, 5, 7, 11]\n"
     ]
    }
   ],
   "source": [
    "# n number of  prime numbers\n",
    "def primeNumber(n):\n",
    "    arr=[]\n",
    "    x=2\n",
    "    count=0\n",
    "    while(len(arr)<=n):\n",
    "        flag=True\n",
    "        for i in range(2,x):\n",
    "            if((x%i)==0):\n",
    "                flag=False\n",
    "                break\n",
    "        if(flag == True):\n",
    "            arr.append(x)\n",
    "            count+=1\n",
    "        if(count == n):\n",
    "            break\n",
    "        x+=1\n",
    "    return arr\n",
    "print(primeNumber(5))            "
   ]
  },
  {
   "cell_type": "code",
   "execution_count": 11,
   "id": "d0f57978",
   "metadata": {},
   "outputs": [
    {
     "name": "stdout",
     "output_type": "stream",
     "text": [
      "1\n",
      "12\n",
      "123\n",
      "1234\n",
      "12345\n",
      "2\n",
      "23\n",
      "234\n",
      "2345\n",
      "3\n",
      "34\n",
      "345\n",
      "4\n",
      "45\n",
      "5\n"
     ]
    }
   ],
   "source": [
    "def printSubArray(arr):\n",
    "    for i in range(len(arr)):\n",
    "        for j in range(i,len(arr)):\n",
    "            strin=''\n",
    "            for k in range(i,j+1):\n",
    "                strin+=str(arr[k])\n",
    "            print(strin)\n",
    "arr=[1,2,3,4,5]            \n",
    "printSubArray(arr)                "
   ]
  },
  {
   "cell_type": "code",
   "execution_count": 12,
   "id": "b92e59a9",
   "metadata": {},
   "outputs": [
    {
     "name": "stdout",
     "output_type": "stream",
     "text": [
      "8\n"
     ]
    }
   ],
   "source": [
    "# maximum sum of subArray\n",
    "def maxiSum_subArray(arr):\n",
    "    maxi=0\n",
    "    for i in range(len(arr)):\n",
    "        sum=0\n",
    "        for j in range(i,len(arr)):\n",
    "            sum += arr[j]\n",
    "            if(sum > maxi):\n",
    "                maxi= sum\n",
    "    return maxi\n",
    "arr=[5,2,-4,-5, 3,-1,2,3,1]\n",
    "print(maxiSum_subArray(arr))            \n"
   ]
  },
  {
   "cell_type": "code",
   "execution_count": 15,
   "id": "b62f57af",
   "metadata": {},
   "outputs": [
    {
     "name": "stdout",
     "output_type": "stream",
     "text": [
      "10\n"
     ]
    }
   ],
   "source": [
    "# maximum Wealth in a account\n",
    "def maximum_wealth(accounts):\n",
    "    maxi=0\n",
    "    for i in range(len(accounts)):\n",
    "        total=0\n",
    "        for j in range(len(accounts[i])):\n",
    "            total+=accounts[i][j]\n",
    "            if(total > maxi):\n",
    "                maxi=total    \n",
    "    return maxi\n",
    "accounts=[[1,5],[7,3],[3,5]]\n",
    "print(maximum_wealth(accounts))            "
   ]
  },
  {
   "cell_type": "code",
   "execution_count": 16,
   "id": "04b2c33a",
   "metadata": {},
   "outputs": [
    {
     "name": "stdout",
     "output_type": "stream",
     "text": [
      "6\n"
     ]
    }
   ],
   "source": [
    "#another method\n",
    "def maxiWealth(acc):\n",
    "    maxi=0\n",
    "    for i in range(len(acc)):\n",
    "        total=sum(acc[i])\n",
    "        maxi=max(maxi,total)\n",
    "    return maxi\n",
    "acc=[[1,2,3],[3,2,1]]\n",
    "print(maxiWealth(acc))    \n"
   ]
  },
  {
   "cell_type": "code",
   "execution_count": 19,
   "id": "e78a7a53",
   "metadata": {},
   "outputs": [
    {
     "name": "stdout",
     "output_type": "stream",
     "text": [
      "58\n"
     ]
    }
   ],
   "source": [
    "\n",
    "# sum of subarray\n",
    "\n",
    "def sumOFSubArray(arr):\n",
    "    sum=0\n",
    "    for i in range(len (arr)):\n",
    "        total=0\n",
    "        for j in range(i,len(arr)):\n",
    "            total+=arr[j]\n",
    "            if((j-i)%2 == 0):\n",
    "                sum+=total\n",
    "    return sum\n",
    "arr= [1,4,2,5,3]            \n",
    "print(sumOFSubArray(arr))\n",
    "\n",
    "\n"
   ]
  },
  {
   "cell_type": "code",
   "execution_count": null,
   "id": "11aa6903",
   "metadata": {},
   "outputs": [
    {
     "name": "stdout",
     "output_type": "stream",
     "text": [
      "[5, 6, 7, 1, 2, 3, 4]\n"
     ]
    }
   ],
   "source": [
    "# Rotated array according to target\n",
    "def rotatedArray(nums,k):\n",
    "    k=k%(len(nums))\n",
    "    rotated=nums[-k:]+nums[:-k]\n",
    "    for i in range(len(nums)):\n",
    "        nums[i] = rotated[i]\n",
    "    return rotated\n",
    "nums = [1,2,3,4,5,6,7] \n",
    "k = 3\n",
    "print(rotatedArray(nums,k))     "
   ]
  },
  {
   "cell_type": "code",
   "execution_count": 23,
   "id": "b1847085",
   "metadata": {},
   "outputs": [
    {
     "name": "stdout",
     "output_type": "stream",
     "text": [
      "[1, 3, 6, 10]\n"
     ]
    }
   ],
   "source": [
    "# running sum\n",
    "def runningSum(nums):\n",
    "    for i in range(1,len(nums)):\n",
    "        nums[i]+=nums[i-1]\n",
    "    return nums\n",
    "nums=[1,2,3,4]\n",
    "print(runningSum(nums))    "
   ]
  },
  {
   "cell_type": "code",
   "execution_count": null,
   "id": "5af4a2b0",
   "metadata": {},
   "outputs": [
    {
     "name": "stdout",
     "output_type": "stream",
     "text": [
      "[1, 2, 3, 4, 5]\n"
     ]
    }
   ],
   "source": [
    "# bubble sort\n",
    "def bubbleSort(arr):\n",
    "    for i in range(len(arr)-1):\n",
    "        for j in range(len(arr)-1-i):\n",
    "            if(arr[j] > arr[j+1]):\n",
    "                temp=arr[j]\n",
    "                arr[j]=arr[j+1]\n",
    "                arr[j+1]=temp\n",
    "    return arr\n",
    "arr=[5,3,2,4,1]\n",
    "print(bubbleSort(arr))"
   ]
  },
  {
   "cell_type": "code",
   "execution_count": 31,
   "id": "7aee7085",
   "metadata": {},
   "outputs": [
    {
     "name": "stdout",
     "output_type": "stream",
     "text": [
      "[1, 2, 3, 4, 5]\n"
     ]
    }
   ],
   "source": [
    "def insertionSort(arr):\n",
    "    for i in range(len(arr)):\n",
    "        temp=arr[i]\n",
    "        j=i-1\n",
    "        while(j>=0 and arr[j]>temp):\n",
    "            arr[j+1]=arr[j]\n",
    "            j-=1\n",
    "        arr[j+1]=temp\n",
    "    return arr\n",
    "arr=[5,1,3,4,2]\n",
    "print(insertionSort(arr))        \n",
    "\n"
   ]
  },
  {
   "cell_type": "code",
   "execution_count": 33,
   "id": "2b8a29b7",
   "metadata": {},
   "outputs": [
    {
     "name": "stdout",
     "output_type": "stream",
     "text": [
      "[1, 2, 3, 4, 5]\n"
     ]
    }
   ],
   "source": [
    "# selection sort\n",
    "def selectionSort(arr):\n",
    "    for i in range(len(arr)):\n",
    "        temp=i\n",
    "        for j in range(i,len(arr)):\n",
    "            if(arr[j] < arr[temp]):\n",
    "                temp=j\n",
    "        ans=arr[i]\n",
    "        arr[i]=arr[temp]\n",
    "        arr[temp]=ans\n",
    "    return arr   \n",
    "arr=[5,1,3,4,2]\n",
    "print(selectionSort(arr))\n"
   ]
  }
 ],
 "metadata": {
  "kernelspec": {
   "display_name": "Python 3",
   "language": "python",
   "name": "python3"
  },
  "language_info": {
   "codemirror_mode": {
    "name": "ipython",
    "version": 3
   },
   "file_extension": ".py",
   "mimetype": "text/x-python",
   "name": "python",
   "nbconvert_exporter": "python",
   "pygments_lexer": "ipython3",
   "version": "3.12.10"
  }
 },
 "nbformat": 4,
 "nbformat_minor": 5
}
