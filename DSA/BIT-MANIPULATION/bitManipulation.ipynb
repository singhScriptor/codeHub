{
 "cells": [
  {
   "cell_type": "code",
   "execution_count": 2,
   "id": "6d8b726e",
   "metadata": {},
   "outputs": [
    {
     "name": "stdout",
     "output_type": "stream",
     "text": [
      "1010\n"
     ]
    }
   ],
   "source": [
    "# code for writing number into binary\n",
    "\n",
    "def numberToBinary(n):\n",
    "    return bin(n)[2:]\n",
    "n=10\n",
    "print(numberToBinary(n))"
   ]
  },
  {
   "cell_type": "code",
   "execution_count": null,
   "id": "e9985e83",
   "metadata": {},
   "outputs": [
    {
     "name": "stdout",
     "output_type": "stream",
     "text": [
      "111\n"
     ]
    }
   ],
   "source": [
    "# 2nd method\n",
    "\n",
    "def numberToBinary(n):\n",
    "    bits=''\n",
    "    while(n > 0):\n",
    "        bits+=str(n%2)\n",
    "        n=n//2\n",
    "    return bits\n",
    "def main():\n",
    "    n=7\n",
    "    print(numberToBinary(n))\n",
    "main()"
   ]
  },
  {
   "cell_type": "code",
   "execution_count": null,
   "id": "0c778cd2",
   "metadata": {},
   "outputs": [],
   "source": []
  },
  {
   "cell_type": "code",
   "execution_count": 6,
   "id": "a7961c3e",
   "metadata": {},
   "outputs": [
    {
     "name": "stdout",
     "output_type": "stream",
     "text": [
      "7\n"
     ]
    }
   ],
   "source": [
    "# binary to number\n",
    "def binaryToNum(binary):\n",
    "    return int(binary,2)\n",
    "binary='111'\n",
    "print(binaryToNum(binary))"
   ]
  },
  {
   "cell_type": "code",
   "execution_count": 8,
   "id": "1028ba81",
   "metadata": {},
   "outputs": [
    {
     "name": "stdout",
     "output_type": "stream",
     "text": [
      "7\n"
     ]
    }
   ],
   "source": [
    "# 2nd method\n",
    "def binaryTonumber(binary):\n",
    "    num=0\n",
    "    for i in binary:\n",
    "        num=num*2+int(i)\n",
    "    return num\n",
    "binary='111'\n",
    "print(binaryToNum(binary))\n",
    "    "
   ]
  },
  {
   "cell_type": "code",
   "execution_count": null,
   "id": "3485cc68",
   "metadata": {},
   "outputs": [
    {
     "name": "stdout",
     "output_type": "stream",
     "text": [
      "True\n"
     ]
    }
   ],
   "source": [
    "def altBits(n):\n",
    "    n= bin(n)[2:]\n",
    "    for i in range(1,len(n)):\n",
    "        if(n[i] == n[i-1]):\n",
    "            return False\n",
    "    return True\n",
    "n=5\n",
    "print(altBits(n))"
   ]
  },
  {
   "cell_type": "code",
   "execution_count": 3,
   "id": "5b2fa333",
   "metadata": {},
   "outputs": [
    {
     "name": "stdout",
     "output_type": "stream",
     "text": [
      "3\n"
     ]
    }
   ],
   "source": [
    "def countBits(n):\n",
    "    n=bin(n)\n",
    "    count=0\n",
    "    for i in range(len(n)):\n",
    "        if(n[i] == '1'):\n",
    "            count+=1\n",
    "    return count\n",
    "n= 0b000000000000000000000000001011\n",
    "print(countBits(n))\n",
    "\n"
   ]
  },
  {
   "cell_type": "code",
   "execution_count": 15,
   "id": "33c93898",
   "metadata": {},
   "outputs": [
    {
     "name": "stdout",
     "output_type": "stream",
     "text": [
      "ffffffff\n"
     ]
    }
   ],
   "source": [
    "def hexaDecimal(num):\n",
    "    m='0123456789abcdef'\n",
    "    ans=''\n",
    "    for i in range(8):\n",
    "        ans=m[num%16]+ans\n",
    "        num//=16\n",
    "    return ans.lstrip('0')\n",
    "num=-1\n",
    "print(hexaDecimal(num))    \n"
   ]
  },
  {
   "cell_type": "code",
   "execution_count": null,
   "id": "4a63b3de",
   "metadata": {},
   "outputs": [
    {
     "name": "stdout",
     "output_type": "stream",
     "text": [
      "0\n"
     ]
    }
   ],
   "source": [
    "n=10\n",
    "print(n//12)\n",
    "# it will just flooring the answer means will floor the quotient "
   ]
  },
  {
   "cell_type": "code",
   "execution_count": 13,
   "id": "cc54372b",
   "metadata": {},
   "outputs": [
    {
     "name": "stdout",
     "output_type": "stream",
     "text": [
      "0\n"
     ]
    }
   ],
   "source": [
    "n=10\n",
    "# note  \"%\" is called as modulo operator\n",
    "print(n%10)\n",
    "# it will just reflect the remainder of the n"
   ]
  },
  {
   "cell_type": "code",
   "execution_count": 14,
   "id": "beaf83e1",
   "metadata": {},
   "outputs": [
    {
     "name": "stdout",
     "output_type": "stream",
     "text": [
      "1a\n"
     ]
    }
   ],
   "source": [
    "def hexaDecimal(num):\n",
    "    m='0123456789abcdef'\n",
    "    ans=''\n",
    "    for i in range(8):\n",
    "        ans=m[num%16]+ans\n",
    "        num//=16\n",
    "    return ans.lstrip('0')    \n",
    "num=26\n",
    "print(hexaDecimal(num))"
   ]
  },
  {
   "cell_type": "code",
   "execution_count": 18,
   "id": "bd9c8637",
   "metadata": {},
   "outputs": [
    {
     "name": "stdout",
     "output_type": "stream",
     "text": [
      "[0, 1, 2, 4, 8, 3, 5, 6, 7]\n"
     ]
    }
   ],
   "source": [
    "def sortBits(arr):\n",
    "    arr.sort(key= lambda a :(bin(a).count('1'),a))\n",
    "    return arr\n",
    "    \n",
    "arr=[0,1,2,3,4,5,6,7,8]\n",
    "print(sortBits(arr))"
   ]
  },
  {
   "cell_type": "code",
   "execution_count": null,
   "id": "0a87f486",
   "metadata": {},
   "outputs": [],
   "source": [
    "# 2nd method\n",
    "def sortBits(arr):\n",
    "    krr=[]\n",
    "    for i in range(len(arr)):\n",
    "        binary=bin(i)\n",
    "        krr.append([binary.count('1'),i])\n",
    "    list.sort()\n",
    "    result=[]\n",
    "    for b ,i in krr:\n",
    "        result.append(i)\n",
    "    return result \n",
    "\n"
   ]
  },
  {
   "cell_type": "code",
   "execution_count": 23,
   "id": "563b2d49",
   "metadata": {},
   "outputs": [
    {
     "name": "stdout",
     "output_type": "stream",
     "text": [
      "[0, 1, 2, 4, 8, 3, 5, 6, 9, 7]\n"
     ]
    }
   ],
   "source": [
    "# sortbits another approach practise\n",
    "\n",
    "def sortBits(num):\n",
    "    arr=[]\n",
    "    for i in num:\n",
    "        binary=bin(i)\n",
    "        arr.append([binary.count('1'),i])\n",
    "    arr.sort()\n",
    "    ans=[]\n",
    "    for b,i in arr:\n",
    "        ans.append(i)\n",
    "    return ans\n",
    "arr=[0,1,2,3,4,5,6,7,8,9]\n",
    "print(sortBits(arr))\n",
    "        "
   ]
  }
 ],
 "metadata": {
  "kernelspec": {
   "display_name": "Python 3",
   "language": "python",
   "name": "python3"
  },
  "language_info": {
   "codemirror_mode": {
    "name": "ipython",
    "version": 3
   },
   "file_extension": ".py",
   "mimetype": "text/x-python",
   "name": "python",
   "nbconvert_exporter": "python",
   "pygments_lexer": "ipython3",
   "version": "3.12.10"
  }
 },
 "nbformat": 4,
 "nbformat_minor": 5
}
