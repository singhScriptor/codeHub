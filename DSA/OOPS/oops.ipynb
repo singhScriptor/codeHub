{
 "cells": [
  {
   "cell_type": "code",
   "execution_count": 2,
   "id": "01f3001c",
   "metadata": {},
   "outputs": [
    {
     "name": "stdout",
     "output_type": "stream",
     "text": [
      "Rahul\n",
      "32\n"
     ]
    }
   ],
   "source": [
    "class Student:\n",
    "    def __init__(self,name,roll_no):\n",
    "        self.name=name\n",
    "        self.roll_no=roll_no\n",
    "    def printAttributes(self):\n",
    "        print(self.name)\n",
    "        print(self.roll_no)\n",
    "s1=Student('Rahul',32)\n",
    "s1.printAttributes()\n",
    "\n",
    "\n"
   ]
  },
  {
   "cell_type": "code",
   "execution_count": 1,
   "id": "82fc4a8b",
   "metadata": {},
   "outputs": [
    {
     "name": "stdout",
     "output_type": "stream",
     "text": [
      "24\n",
      "10\n"
     ]
    }
   ],
   "source": [
    "class Triangle:\n",
    "    def __init__(self,side1,side2,side3):\n",
    "        self.side1=side1\n",
    "        self.side2=side2\n",
    "        self.side3=side3\n",
    "    def calculate_area(self):\n",
    "        area=self.side1*self.side2*self.side3\n",
    "        print(area)\n",
    "    def calculate_perimeter(self):\n",
    "        perimeter=self.side1+self.side2+self.side3\n",
    "        print(perimeter)\n",
    "t1=Triangle(6,2,2)\n",
    "t1.calculate_area()\n",
    "t1.calculate_perimeter()                "
   ]
  },
  {
   "cell_type": "code",
   "execution_count": 1,
   "id": "a57963f3",
   "metadata": {},
   "outputs": [
    {
     "name": "stdout",
     "output_type": "stream",
     "text": [
      "Arjun\n",
      "Manali\n"
     ]
    }
   ],
   "source": [
    "class trip:\n",
    "    def __init__(self,name,trip_T):\n",
    "        self.name=name\n",
    "        self.trip_T=trip_T\n",
    "    def manali(self):\n",
    "        print(self.name)\n",
    "        print(self.trip_T)\n",
    "c1=trip('Arjun','Manali')\n",
    "c1.manali()            \n",
    "        "
   ]
  }
 ],
 "metadata": {
  "kernelspec": {
   "display_name": "venv",
   "language": "python",
   "name": "python3"
  },
  "language_info": {
   "codemirror_mode": {
    "name": "ipython",
    "version": 3
   },
   "file_extension": ".py",
   "mimetype": "text/x-python",
   "name": "python",
   "nbconvert_exporter": "python",
   "pygments_lexer": "ipython3",
   "version": "3.12.3"
  }
 },
 "nbformat": 4,
 "nbformat_minor": 5
}
